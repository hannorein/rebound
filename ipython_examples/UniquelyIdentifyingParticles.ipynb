{
 "cells": [
  {
   "cell_type": "markdown",
   "metadata": {},
   "source": [
    "# Uniquely Identifying Particles\n",
    "\n",
    "For some applications, it is useful to keep track of which particle is which, and this can get jumbled up when particles are added or removed from the simulation, when they get reindexed if using the gravity tree code etc."
   ]
  },
  {
   "cell_type": "code",
   "execution_count": 1,
   "metadata": {
    "collapsed": true
   },
   "outputs": [],
   "source": [
    "import rebound\n",
    "sim = rebound.Simulation()\n",
    "sim.add(m=1.)\n",
    "sim.add(a=1.)\n",
    "sim.add(a=2.)"
   ]
  },
  {
   "cell_type": "markdown",
   "metadata": {},
   "source": [
    "We can refer to a particle using a custom string as follows:"
   ]
  },
  {
   "cell_type": "code",
   "execution_count": 2,
   "metadata": {
    "collapsed": true
   },
   "outputs": [],
   "source": [
    "sim.particles[1].hash = sim.get_particle_hash(\"earth\")"
   ]
  },
  {
   "cell_type": "markdown",
   "metadata": {},
   "source": [
    "REBOUND uses a hash function to convert \"earth\" to an effectively random integer, and we store that identifier in the particle's hash field.  We can now access the particle with:"
   ]
  },
  {
   "cell_type": "code",
   "execution_count": 3,
   "metadata": {
    "collapsed": false
   },
   "outputs": [
    {
     "name": "stdout",
     "output_type": "stream",
     "text": [
      "<rebound.Particle object, m=0.0 x=1.0 y=0.0 z=0.0 vx=0.0 vy=1.0 vz=0.0>\n"
     ]
    }
   ],
   "source": [
    "print(sim.get_particle(\"earth\"))"
   ]
  },
  {
   "cell_type": "markdown",
   "metadata": {},
   "source": [
    "rather than the typical"
   ]
  },
  {
   "cell_type": "code",
   "execution_count": 4,
   "metadata": {
    "collapsed": false
   },
   "outputs": [
    {
     "name": "stdout",
     "output_type": "stream",
     "text": [
      "<rebound.Particle object, m=0.0 x=1.0 y=0.0 z=0.0 vx=0.0 vy=1.0 vz=0.0>\n"
     ]
    }
   ],
   "source": [
    "print(sim.particles[1])"
   ]
  },
  {
   "cell_type": "markdown",
   "metadata": {},
   "source": [
    "The advantage of the former is that it will always access the right particle even if the particle moves around in the particle array (due to particle additions, removals reindexing etc.), and probably makes your code more readable!  For convenience you can also add the name when you add the particle to the simulation:"
   ]
  },
  {
   "cell_type": "code",
   "execution_count": 5,
   "metadata": {
    "collapsed": false
   },
   "outputs": [
    {
     "name": "stdout",
     "output_type": "stream",
     "text": [
      "999.9999999999998\n"
     ]
    }
   ],
   "source": [
    "sim.add(a=1000., name=\"Planet 9\")\n",
    "print(sim.get_particle(\"Planet 9\").a)"
   ]
  },
  {
   "cell_type": "markdown",
   "metadata": {},
   "source": [
    "If you need to assign many hashes and don't want to give them each a name, you can also let the simulation assign them unique hashes by not passing a string to `sim.get_particle_hash` after the fact:"
   ]
  },
  {
   "cell_type": "code",
   "execution_count": 6,
   "metadata": {
    "collapsed": false
   },
   "outputs": [],
   "source": [
    "for i in range(3,13):\n",
    "    sim.add(a=i)\n",
    "    sim.particles[-1].hash = sim.get_particle_hash()"
   ]
  },
  {
   "cell_type": "markdown",
   "metadata": {},
   "source": [
    "If we print all the particles' hashes, ones that were not assigned one are 0, ones assigned strings will have random integers, and ones assigned by the simulation will be consecutive (plus a random offset):"
   ]
  },
  {
   "cell_type": "code",
   "execution_count": 7,
   "metadata": {
    "collapsed": false
   },
   "outputs": [
    {
     "name": "stdout",
     "output_type": "stream",
     "text": [
      "0\n",
      "1424801690\n",
      "0\n",
      "545758163\n",
      "20659\n",
      "20660\n",
      "20661\n",
      "20662\n",
      "20663\n",
      "20664\n",
      "20665\n",
      "20666\n",
      "20667\n",
      "20668\n"
     ]
    }
   ],
   "source": [
    "for p in sim.particles:\n",
    "    print(p.hash)"
   ]
  },
  {
   "cell_type": "markdown",
   "metadata": {},
   "source": [
    "We can also access particles through their hash:"
   ]
  },
  {
   "cell_type": "code",
   "execution_count": 8,
   "metadata": {
    "collapsed": false
   },
   "outputs": [
    {
     "name": "stdout",
     "output_type": "stream",
     "text": [
      "<rebound.Particle object, m=0.0 x=1.0 y=0.0 z=0.0 vx=0.0 vy=1.0 vz=0.0>\n"
     ]
    }
   ],
   "source": [
    "print(sim.get_particle(hash=1424801690))"
   ]
  },
  {
   "cell_type": "markdown",
   "metadata": {},
   "source": [
    "Only particles that have been assigned a non-zero hash can be accessed with `sim.get_particle`.  If you assign hashes manually and two particles share the same hash, `sim.get_particle` will return the first hit in the `particles` array."
   ]
  }
 ],
 "metadata": {
  "kernelspec": {
   "display_name": "Python 3",
   "language": "python",
   "name": "python3"
  },
  "language_info": {
   "codemirror_mode": {
    "name": "ipython",
    "version": 3
   },
   "file_extension": ".py",
   "mimetype": "text/x-python",
   "name": "python",
   "nbconvert_exporter": "python",
   "pygments_lexer": "ipython3",
   "version": "3.5.1"
  }
 },
 "nbformat": 4,
 "nbformat_minor": 0
}
