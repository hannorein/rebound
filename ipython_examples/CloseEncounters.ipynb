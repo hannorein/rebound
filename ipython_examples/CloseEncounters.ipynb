{
 "cells": [
  {
   "cell_type": "markdown",
   "metadata": {},
   "source": [
    "# Catching close encounters using exceptions\n",
    "Sometimes one is interested in catching a close encounter between two planets. This can easily be done with REBOUND. What you do when a close encounter happens is up to you.\n",
    "\n",
    "Some integrators are better suited to simulate close encounters than others. For example, the non-symplectic integrator IAS15 has an adaptive timestep scheme that resolves close encounters very well. Integrators that use a fixed timestep like WHFast are more likely to miss close encounters.\n",
    "\n",
    "Let's start with a two-planet system that will go unstable on a short timescale:"
   ]
  },
  {
   "cell_type": "code",
   "execution_count": 1,
   "metadata": {
    "collapsed": false
   },
   "outputs": [],
   "source": [
    "import rebound\n",
    "import numpy as np\n",
    "def setupSimulation():\n",
    "    sim = rebound.Simulation()\n",
    "    sim.integrator = \"ias15\" # IAS15 is the default integrator, so we don't need this line\n",
    "    sim.add(m=1.)\n",
    "    sim.add(m=1e-3,a=1.)\n",
    "    sim.add(m=5e-3,a=1.25)\n",
    "    sim.move_to_com()\n",
    "    return sim"
   ]
  },
  {
   "cell_type": "markdown",
   "metadata": {},
   "source": [
    "Let's integrate this system for 100 orbital periods."
   ]
  },
  {
   "cell_type": "code",
   "execution_count": 2,
   "metadata": {
    "collapsed": false
   },
   "outputs": [],
   "source": [
    "sim = setupSimulation()\n",
    "sim.integrate(100.*2.*np.pi)"
   ]
  },
  {
   "cell_type": "markdown",
   "metadata": {},
   "source": [
    "Rebound exits the integration routine normally. We can now explore the final particle orbits:"
   ]
  },
  {
   "cell_type": "code",
   "execution_count": 3,
   "metadata": {
    "collapsed": false
   },
   "outputs": [
    {
     "name": "stdout",
     "output_type": "stream",
     "text": [
      "<rebound.Orbit instance, a=4.791245993819827 e=0.7183652183395344 inc=0.0 Omega=0.0 omega=2.7353494602867907 f=-2.057423324671259>\n",
      "<rebound.Orbit instance, a=1.0424331728612888 e=0.12231090716700646 inc=0.0 Omega=0.0 omega=-0.35524580875249534 f=-1.453243112606366>\n"
     ]
    }
   ],
   "source": [
    "for o in sim.calculate_orbits():\n",
    "    print(o)"
   ]
  },
  {
   "cell_type": "markdown",
   "metadata": {},
   "source": [
    "We see that the orbits of both planets changed significantly and we can already speculate that there was a close encounter.\n",
    "\n",
    "Let's redo the simulation, but this time set the `sim.exit_min_distance` flag for the simulation. If this flag is set, then REBOUND calculates the minimum distance between all particle pairs each timestep. If the distance is less than `sim.exit_min_distance`, then the integration is stopped and an exception thrown. Here, we'll use the [Hill radius](http://en.wikipedia.org/wiki/Hill_sphere) as the criteria for a close encounter. It is given by $r_{\\rm Hill} \\approx a \\sqrt{\\frac{m}{3M}}$, which is approximately 0.15 AU in our case. \n",
    "\n",
    "This setup allows us to instead catch the exception and deal with it in a customized way.  As a first example, let's catch the exception with a `try`-`except` block, and simply print out the error message. Additionally, let's store the particles' separations while we're integrating:"
   ]
  },
  {
   "cell_type": "code",
   "execution_count": 4,
   "metadata": {
    "collapsed": false
   },
   "outputs": [
    {
     "name": "stdout",
     "output_type": "stream",
     "text": [
      "Two particles had a close encounter (d<exit_min_distance).\n"
     ]
    }
   ],
   "source": [
    "sim = setupSimulation() # Resets everything\n",
    "sim.exit_min_distance = 0.15\n",
    "Noutputs = 1000\n",
    "times = np.linspace(0,100.*2.*np.pi,Noutputs)\n",
    "distances = np.zeros(Noutputs)\n",
    "ps = sim.particles # ps is now an array of pointers. It will update as the simulation runs.\n",
    "try:\n",
    "    for i,time in enumerate(times):\n",
    "        sim.integrate(time)\n",
    "        dp = ps[1] - ps[2]   # Calculates the coponentwise difference between particles \n",
    "        distances[i] = np.sqrt(dp.x*dp.x+dp.y*dp.y+dp.z*dp.z)\n",
    "except rebound.Encounter as error:\n",
    "    print(error)"
   ]
  },
  {
   "cell_type": "markdown",
   "metadata": {},
   "source": [
    "The `Encounter` does currently not tell you wich particles had a close encounter. But you can easily search for the pair yourself (see below). \n",
    "\n",
    "Here, we already know which bodies had a close encounter (the two planets), so let's plot their separation."
   ]
  },
  {
   "cell_type": "code",
   "execution_count": 5,
   "metadata": {
    "collapsed": false,
    "scrolled": false
   },
   "outputs": [
    {
     "data": {
      "text/plain": [
       "[<matplotlib.lines.Line2D at 0x10d850940>]"
      ]
     },
     "execution_count": 5,
     "metadata": {},
     "output_type": "execute_result"
    },
    {
     "data": {
      "image/png": "[encoded data removed]",
      "text/plain": [
       "<matplotlib.figure.Figure at 0x10c9c9198>"
      ]
     },
     "metadata": {},
     "output_type": "display_data"
    }
   ],
   "source": [
    "%matplotlib inline\n",
    "import matplotlib.pyplot as plt\n",
    "fig = plt.figure(figsize=(10,5))\n",
    "ax = plt.subplot(111)\n",
    "ax.set_xlabel(\"time [orbits]\")\n",
    "ax.set_xlim([0,sim.t/(2.*np.pi)])\n",
    "ax.set_ylabel(\"distance\")\n",
    "plt.plot(times/(2.*np.pi), distances);\n",
    "plt.plot([0.0,12],[0.2,0.2]) # Plot our close encounter criteria;"
   ]
  },
  {
   "cell_type": "markdown",
   "metadata": {},
   "source": [
    "We did indeed find the close enounter correctly. We can now search for the two particles that collided and, for this example, merge them. To do that we'll first calculate our new merged planet coordinates, then remove the two particles that collided from REBOUND and finally add the new particle."
   ]
  },
  {
   "cell_type": "code",
   "execution_count": 6,
   "metadata": {
    "collapsed": false
   },
   "outputs": [
    {
     "name": "stdout",
     "output_type": "stream",
     "text": [
      "Number of particles at the beginning of the simulation: 3.\n",
      "Two particles had a close encounter (d<exit_min_distance).\n",
      "Number of particles at the end of the simulation: 2.\n"
     ]
    }
   ],
   "source": [
    "import copy\n",
    "from itertools import combinations\n",
    "def mergeParticles(sim):\n",
    "    # Find two closest particles\n",
    "    min_d2 = 1e9 # large number\n",
    "    ps = sim.particles\n",
    "    for i1, i2 in combinations(range(sim.N),2): # get all pairs of indices\n",
    "        dp = ps[i1] - ps[i2]   # Calculates the coponentwise difference between particles \n",
    "        d2 = dp.x*dp.x+dp.y*dp.y+dp.z*dp.z\n",
    "        if d2<min_d2:\n",
    "            min_d2 = d2\n",
    "            col_i1 = i1\n",
    "            col_i2 = i2\n",
    "    \n",
    "    cp1 = ps[col_i1]\n",
    "    cp2 = ps[col_i2]\n",
    "    # Merge two closest particles\n",
    "    \n",
    "    sum_mass = cp1.m + cp2.m\n",
    "    mergedPlanet = (cp1*cp1.m + cp2*cp2.m)/sum_mass \n",
    "    mergedPlanet.m  = sum_mass\n",
    "    sim.remove(index=col_i1) \n",
    "    sim.remove(index=col_i1)\n",
    "    sim.add(mergedPlanet, assignHash=True)\n",
    "\n",
    "sim = setupSimulation() # Resets everything\n",
    "sim.exit_min_distance = 0.15\n",
    "print(\"Number of particles at the beginning of the simulation: %d.\"%sim.N)\n",
    "for i,time in enumerate(times):\n",
    "    try:\n",
    "        sim.integrate(time)\n",
    "    except rebound.Encounter as error:\n",
    "        print(error)\n",
    "        mergeParticles(sim)\n",
    "print(\"Number of particles at the end of the simulation: %d.\"%sim.N)"
   ]
  },
  {
   "cell_type": "code",
   "execution_count": null,
   "metadata": {
    "collapsed": true
   },
   "outputs": [],
   "source": []
  }
 ],
 "metadata": {
  "kernelspec": {
   "display_name": "Python 3",
   "language": "python",
   "name": "python3"
  },
  "language_info": {
   "codemirror_mode": {
    "name": "ipython",
    "version": 3
   },
   "file_extension": ".py",
   "mimetype": "text/x-python",
   "name": "python",
   "nbconvert_exporter": "python",
   "pygments_lexer": "ipython3",
   "version": "3.5.1"
  }
 },
 "nbformat": 4,
 "nbformat_minor": 0
}
