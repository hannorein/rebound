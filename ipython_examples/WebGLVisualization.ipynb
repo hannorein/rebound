{
 "cells": [
  {
   "cell_type": "markdown",
   "metadata": {},
   "source": [
    "# WebGL Visualization Widget\n",
    "\n",
    "\n",
    "REBOUND comes with a ipython widget that can be used in Jupyter notebooks. It is similar to the OpenGL visualization in the C version of REBOUND, but it currently misses a few features such as rendering spheres and support for periodic boundary conditions.\n",
    "\n",
    "Using the widget makes setting up a simulation very interactive. One can spot many mistakes in the setup process of a simulation by visually inspecting the  particles. \n",
    "\n",
    "The widget is using the ipywidgets package which needs to be installed and enabled. More information on this can be found in the ipywidgets documentation at https://ipywidgets.readthedocs.io/en/latest/user_install.html. You also need a browser and a graphics card that supports WebGL.\n",
    "\n",
    "Let us start this demo by setting up an empty simulation and calling the `widget()` function on the simulation object. This will create a new widget, attach it to the simulation and return it to the user. "
   ]
  },
  {
   "cell_type": "code",
   "execution_count": null,
   "metadata": {},
   "outputs": [],
   "source": [
    "import rebound\n",
    "sim = rebound.Simulation()\n",
    "sim.widget()"
   ]
  },
  {
   "cell_type": "markdown",
   "metadata": {},
   "source": [
    "Next up, lets add some particles to the simulation. The widget updates automatically when a particle gets added or removed. "
   ]
  },
  {
   "cell_type": "code",
   "execution_count": null,
   "metadata": {},
   "outputs": [],
   "source": [
    "sim.add(m=1) # add a star"
   ]
  },
  {
   "cell_type": "code",
   "execution_count": null,
   "metadata": {},
   "outputs": [],
   "source": [
    "for i in range(10):\n",
    "    sim.add(m=1e-3,a=0.4+0.1*i,inc=0.03*i,omega=5.*i) # Jupiter mass planets on close orbits\n",
    "sim.move_to_com() # Move to the centre of mass frame"
   ]
  },
  {
   "cell_type": "markdown",
   "metadata": {},
   "source": [
    "Drag the widget with your mouse or touchpad to look at the simulation from different angles. Keep the shift key pressed while you drag to zoom in or out.\n",
    "\n",
    "Next, we will try to integrate the orbits forward in time. Because the planets are very massive and on close to each other, the system will go unstable very quickly. By default, REBOUND is using the IAS15 integrator which can resolve close encounter. During each close encounter the instantaneous orbits of the planets show in the widget will change rapidly.  "
   ]
  },
  {
   "cell_type": "code",
   "execution_count": null,
   "metadata": {},
   "outputs": [],
   "source": [
    "sim.integrate(500)"
   ]
  },
  {
   "cell_type": "markdown",
   "metadata": {},
   "source": [
    "The widget can be configured with various options. For more details on those options, have a look at the documentation. \n",
    "\n",
    "One thing we can do is change the size of the widget and turn off the plotting of instantaneous orbits. The latter is useful if one is integrating a hierarchical system, for example a binary star or moons around planets. "
   ]
  },
  {
   "cell_type": "code",
   "execution_count": null,
   "metadata": {},
   "outputs": [],
   "source": [
    "sim.widget(size=(400,200),orbits=False)"
   ]
  },
  {
   "cell_type": "markdown",
   "metadata": {},
   "source": [
    "One can also preset the scale and the orientation of the view, which can be useful for constructing multiple widgets at the same time that allows us to view the system from different angles."
   ]
  },
  {
   "cell_type": "code",
   "execution_count": null,
   "metadata": {},
   "outputs": [],
   "source": [
    "widget_1 = sim.widget(orientation=(0,0,0,1),scale=2)\n",
    "widget_2 = sim.widget(orientation=(0,1,0,1),scale=2,size=(50,200))\n",
    "widget_3 = sim.widget(orientation=(1,0,0,1),scale=2,size=(200,50))\n",
    "from ipywidgets import HBox, VBox\n",
    "VBox((widget_3,HBox((widget_1, widget_2))))"
   ]
  },
  {
   "cell_type": "markdown",
   "metadata": {},
   "source": [
    "In case you're wondering, the orientation parameter above expects the x, y, z, and w components of a quaternion. If we now integrate the system a little further, all widgets will be updated at the same time, giving you an instantaneous idea of the three-dimensional evolution of the system."
   ]
  },
  {
   "cell_type": "code",
   "execution_count": null,
   "metadata": {},
   "outputs": [],
   "source": [
    "sim.integrate(800)"
   ]
  },
  {
   "cell_type": "markdown",
   "metadata": {},
   "source": [
    "This widget is a relatively new addition to REBOUND. If you notice any bugs or have requests for new features, please open an issue on github. "
   ]
  },
  {
   "cell_type": "code",
   "execution_count": null,
   "metadata": {},
   "outputs": [],
   "source": []
  }
 ],
 "metadata": {
  "kernelspec": {
   "display_name": "Python 3",
   "language": "python",
   "name": "python3"
  },
  "language_info": {
   "codemirror_mode": {
    "name": "ipython",
    "version": 3
   },
   "file_extension": ".py",
   "mimetype": "text/x-python",
   "name": "python",
   "nbconvert_exporter": "python",
   "pygments_lexer": "ipython3",
   "version": "3.8.9"
  }
 },
 "nbformat": 4,
 "nbformat_minor": 1
}
