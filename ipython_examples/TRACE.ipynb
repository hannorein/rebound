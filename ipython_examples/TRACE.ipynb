{
 "cells": [
  {
   "cell_type": "code",
   "execution_count": 72,
   "metadata": {},
   "outputs": [],
   "source": [
    "import numpy as np\n",
    "import rebound\n",
    "import math\n",
    "from datetime import datetime\n",
    "import matplotlib.pyplot as plt"
   ]
  },
  {
   "cell_type": "code",
   "execution_count": 69,
   "metadata": {},
   "outputs": [],
   "source": [
    "def get_jacobi_const(sim):\n",
    "    ps = sim.particles\n",
    "    star = ps[0]\n",
    "    planet = ps[1]\n",
    "    particle = ps[2]\n",
    "    rstar = np.array(star.xyz)\n",
    "    rplanet = np.array(planet.xyz)\n",
    "    r = np.array(particle.xyz)\n",
    "    v = np.array(particle.vxyz)\n",
    "    \n",
    "    KE = 0.5 * v@v # test particle kinetic energy\n",
    "    mu1 = sim.G * star.m\n",
    "    mu2 = sim.G * planet.m\n",
    "    r1 = r-rstar\n",
    "    r2 = r-rplanet\n",
    "    PE = -1*mu1/np.sqrt(r1@r1) - mu2/np.sqrt(r2@r2) # test particle potential energy\n",
    "    \n",
    "    lz = np.cross(r,v)[-1]\n",
    "    \n",
    "    CJ = 2 * planet.n * lz - 2 * (KE + PE) # jacobi constant\n",
    "    return CJ\n",
    "\n",
    "def pericenter_sim():\n",
    "    sim = rebound.Simulation()\n",
    "    sun = rebound.Particle(m=1.)\n",
    "    sim.add(sun)\n",
    "    sim.add(primary=sun, m=9.55e-4, a=5.2)\n",
    "    sim.add(primary=sun, m=2.857e-4, a=9.58,e=0.99,inc=math.pi/2.)\n",
    "    sim.move_to_com()\n",
    "    return sim\n",
    "\n",
    "def chaotic_exchange_sim():\n",
    "    sim = rebound.Simulation()\n",
    "    # Setup using xyz instead of orbital elements for\n",
    "    # machine independent test\n",
    "\n",
    "    star_m = 1;\n",
    "    jup_m = 0.01 / (star_m - 0.01);\n",
    "\n",
    "    jup_a = 5.2;\n",
    "    jup_e = 0.0;\n",
    "    star_x = -(jup_m / (star_m + jup_m)) * (jup_a * (1 + jup_e));\n",
    "    star_vy = -(jup_m / (star_m + jup_m)) * np.sqrt(((star_m + jup_m) / jup_a) * ((1 - jup_e) / (1 + jup_e)));\n",
    "\n",
    "    jup_x = (star_m / (star_m + jup_m)) * (jup_a * (1 + jup_e));\n",
    "    jup_vy = (star_m / (star_m + jup_m)) * np.sqrt(((star_m + jup_m) / jup_a) * ((1 - jup_e) / (1 + jup_e)));\n",
    "\n",
    "    t_x = 4.42;\n",
    "    t_vy = 0.0072 * (365.25) * (1 / (2 * np.pi))\n",
    "\n",
    "    sim = rebound.Simulation()\n",
    "    sim.add(m=star_m, x=star_x, vy=star_vy)\n",
    "    sim.add(m=jup_m, x=jup_x, vy = jup_vy)\n",
    "    sim.add(m=0, x=t_x + star_x, vy = t_vy + star_vy)\n",
    "    return sim"
   ]
  },
  {
   "cell_type": "code",
   "execution_count": 47,
   "metadata": {},
   "outputs": [],
   "source": [
    "star_m = 1;\n",
    "jup_m = 0.01 / (star_m - 0.01);\n",
    "\n",
    "jup_a = 5.2;\n",
    "jup_e = 0.0;\n",
    "star_x = -(jup_m / (star_m + jup_m)) * (jup_a * (1 + jup_e));\n",
    "star_vy = -(jup_m / (star_m + jup_m)) * np.sqrt(((star_m + jup_m) / jup_a) * ((1 - jup_e) / (1 + jup_e)));\n",
    "\n",
    "jup_x = (star_m / (star_m + jup_m)) * (jup_a * (1 + jup_e));\n",
    "jup_vy = (star_m / (star_m + jup_m)) * np.sqrt(((star_m + jup_m) / jup_a) * ((1 - jup_e) / (1 + jup_e)));\n",
    "\n",
    "t_x = 4.42;\n",
    "t_vy = 0.0072 * (365.25) * (1 / (2 * np.pi))\n",
    "\n",
    "sim = rebound.Simulation()\n",
    "sim.add(m=star_m, x=star_x, vy=star_vy)\n",
    "sim.add(m=jup_m, x=jup_x, vy = jup_vy)\n",
    "sim.add(m=0, x=t_x + star_x, vy = t_vy + star_vy)\n",
    "sim.move_to_com()\n",
    "\n",
    "E0 = get_jacobi_const(sim)"
   ]
  },
  {
   "cell_type": "code",
   "execution_count": 48,
   "metadata": {},
   "outputs": [],
   "source": [
    "sim.integrator='trace'\n",
    "sim.integrate(5000. * 2 * np.pi)\n",
    "sim.dt = (8./365.) * 2 * np.pi"
   ]
  },
  {
   "cell_type": "code",
   "execution_count": 46,
   "metadata": {},
   "outputs": [
    {
     "data": {
      "text/plain": [
       "1.4676149465760377e-10"
      ]
     },
     "execution_count": 46,
     "metadata": {},
     "output_type": "execute_result"
    }
   ],
   "source": [
    "(get_jacobi_const(sim) - E0) / E0"
   ]
  },
  {
   "cell_type": "code",
   "execution_count": 52,
   "metadata": {},
   "outputs": [],
   "source": [
    "sim = rebound.Simulation()\n",
    "sun = rebound.Particle(m=1.)\n",
    "sim.add(primary=sun, m=9.55e-4, a=5.2)\n",
    "sim.add(primary=sun, m=2.857e-4, a=9.58,e=0.99,inc=math.pi/2.)\n",
    "sim.move_to_com()\n",
    "sim.integrator='trace'\n",
    "sim.dt = 0.15 * 2 * math.pi\n",
    "E0 = sim.energy()"
   ]
  },
  {
   "cell_type": "code",
   "execution_count": 53,
   "metadata": {},
   "outputs": [
    {
     "data": {
      "text/plain": [
       "4.524339047234746e-08"
      ]
     },
     "execution_count": 53,
     "metadata": {},
     "output_type": "execute_result"
    }
   ],
   "source": [
    "sim.integrate(3000.)\n",
    "(sim.energy() - E0) / E0"
   ]
  },
  {
   "cell_type": "code",
   "execution_count": 70,
   "metadata": {},
   "outputs": [
    {
     "data": {
      "text/plain": [
       "(0.00027443986142116657, 0.003205, 0.053479)"
      ]
     },
     "execution_count": 70,
     "metadata": {},
     "output_type": "execute_result"
    }
   ],
   "source": [
    "sim = pericenter_sim()\n",
    "sim.integrator = \"ias15\"\n",
    "start_ias15=datetime.now()\n",
    "sim.integrate(3000.)\n",
    "time_ias15 = (datetime.now()-start_ias15).total_seconds()\n",
    "\n",
    "sim = pericenter_sim()\n",
    "sim.integrator = \"trace\"\n",
    "sim.dt = 0.15 * 2 * math.pi\n",
    "E0 = sim.energy()\n",
    "start_trace=datetime.now()\n",
    "sim.integrate(3000.)\n",
    "time_trace = (datetime.now()-start_trace).total_seconds()\n",
    "dE_trace = abs((sim.energy() - E0)/E0)\n",
    "\n",
    "dE_trace,time_trace,time_ias15"
   ]
  },
  {
   "cell_type": "code",
   "execution_count": 67,
   "metadata": {},
   "outputs": [],
   "source": [
    "sim = pericenter_sim()\n",
    "sim.integrator = \"trace\"\n",
    "sim.dt = 0.15 * 2 * math.pi\n",
    "E0 = sim.energy()\n",
    "start_trace=datetime.now()\n",
    "sim.integrate(3000.)\n",
    "time_trace = (datetime.now()-start_trace).total_seconds()\n",
    "dE_trace = abs((sim.energy() - E0)/E0)"
   ]
  },
  {
   "cell_type": "code",
   "execution_count": 68,
   "metadata": {},
   "outputs": [
    {
     "ename": "AttributeError",
     "evalue": "Index 2 used to access particles out of range.",
     "output_type": "error",
     "traceback": [
      "\u001b[0;31m---------------------------------------------------------------------------\u001b[0m",
      "\u001b[0;31mAttributeError\u001b[0m                            Traceback (most recent call last)",
      "\u001b[0;32m/var/folders/hq/fnw8pl6d7g95srndl2lv202w0000gn/T/ipykernel_2977/2386981821.py\u001b[0m in \u001b[0;36m<module>\u001b[0;34m\u001b[0m\n\u001b[0;32m----> 1\u001b[0;31m \u001b[0msim\u001b[0m\u001b[0;34m.\u001b[0m\u001b[0mparticles\u001b[0m\u001b[0;34m[\u001b[0m\u001b[0;36m2\u001b[0m\u001b[0;34m]\u001b[0m\u001b[0;34m.\u001b[0m\u001b[0ma\u001b[0m\u001b[0;34m\u001b[0m\u001b[0;34m\u001b[0m\u001b[0m\n\u001b[0m",
      "\u001b[0;32m~/Documents/School/mercurius/rebound/rebound/particles.py\u001b[0m in \u001b[0;36m__getitem__\u001b[0;34m(self, key)\u001b[0m\n\u001b[1;32m     44\u001b[0m                 \u001b[0mkey\u001b[0m \u001b[0;34m+=\u001b[0m \u001b[0mself\u001b[0m\u001b[0;34m.\u001b[0m\u001b[0msim\u001b[0m\u001b[0;34m.\u001b[0m\u001b[0mN\u001b[0m\u001b[0;34m\u001b[0m\u001b[0;34m\u001b[0m\u001b[0m\n\u001b[1;32m     45\u001b[0m             \u001b[0;32mif\u001b[0m \u001b[0mkey\u001b[0m \u001b[0;34m<\u001b[0m \u001b[0;36m0\u001b[0m \u001b[0;32mor\u001b[0m \u001b[0mkey\u001b[0m \u001b[0;34m>=\u001b[0m \u001b[0mself\u001b[0m\u001b[0;34m.\u001b[0m\u001b[0msim\u001b[0m\u001b[0;34m.\u001b[0m\u001b[0mN\u001b[0m\u001b[0;34m:\u001b[0m\u001b[0;34m\u001b[0m\u001b[0;34m\u001b[0m\u001b[0m\n\u001b[0;32m---> 46\u001b[0;31m                 \u001b[0;32mraise\u001b[0m \u001b[0mAttributeError\u001b[0m\u001b[0;34m(\u001b[0m\u001b[0;34m\"Index {0} used to access particles out of range.\"\u001b[0m\u001b[0;34m.\u001b[0m\u001b[0mformat\u001b[0m\u001b[0;34m(\u001b[0m\u001b[0mkey\u001b[0m\u001b[0;34m)\u001b[0m\u001b[0;34m)\u001b[0m\u001b[0;34m\u001b[0m\u001b[0;34m\u001b[0m\u001b[0m\n\u001b[0m\u001b[1;32m     47\u001b[0m             \u001b[0;32mreturn\u001b[0m \u001b[0mself\u001b[0m\u001b[0;34m.\u001b[0m\u001b[0m_ps\u001b[0m\u001b[0;34m[\u001b[0m\u001b[0mkey\u001b[0m\u001b[0;34m]\u001b[0m\u001b[0;34m\u001b[0m\u001b[0;34m\u001b[0m\u001b[0m\n\u001b[1;32m     48\u001b[0m \u001b[0;34m\u001b[0m\u001b[0m\n",
      "\u001b[0;31mAttributeError\u001b[0m: Index 2 used to access particles out of range."
     ]
    }
   ],
   "source": [
    "sim.particles[2].a"
   ]
  },
  {
   "cell_type": "code",
   "execution_count": 76,
   "metadata": {},
   "outputs": [
    {
     "data": {
      "text/plain": [
       "[<matplotlib.lines.Line2D at 0x7fb4b2132c90>]"
      ]
     },
     "execution_count": 76,
     "metadata": {},
     "output_type": "execute_result"
    },
    {
     "data": {
      "image/png": "[encoded data removed]",
      "text/plain": [
       "<Figure size 640x480 with 1 Axes>"
      ]
     },
     "metadata": {},
     "output_type": "display_data"
    }
   ],
   "source": [
    "semis = np.linspace(0.000001, 2, 1000)\n",
    "plt.plot(semis, semis**-1)\n",
    "plt.plot(semis, np.log10(semis))"
   ]
  },
  {
   "cell_type": "code",
   "execution_count": null,
   "metadata": {},
   "outputs": [],
   "source": []
  }
 ],
 "metadata": {
  "kernelspec": {
   "display_name": "Python 3 (ipykernel)",
   "language": "python",
   "name": "python3"
  },
  "language_info": {
   "codemirror_mode": {
    "name": "ipython",
    "version": 3
   },
   "file_extension": ".py",
   "mimetype": "text/x-python",
   "name": "python",
   "nbconvert_exporter": "python",
   "pygments_lexer": "ipython3",
   "version": "3.7.4"
  }
 },
 "nbformat": 4,
 "nbformat_minor": 2
}
