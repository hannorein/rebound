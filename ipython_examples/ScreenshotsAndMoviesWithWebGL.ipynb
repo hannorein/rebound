{
 "cells": [
  {
   "cell_type": "markdown",
   "metadata": {},
   "source": [
    "# Screenshots and Movies with WebGL\n",
    "\n",
    "\n",
    "One can use the REBOUND WebGL ipython widget to capture screenshots of a simulation. These screenshots can then be easily compiled into a movie.\n",
    "\n",
    "The widget is using the ipywidgets package which needs to be installed and enabled. More information on this can be found in the ipywidgets documentation at https://ipywidgets.readthedocs.io/en/latest/user_install.html. You also need a browser and a graphics card that supports WebGL.\n",
    "\n",
    "Note that this is a new feature and might not work on all systems. We've tested it on python 3.5.2."
   ]
  },
  {
   "cell_type": "markdown",
   "metadata": {},
   "source": [
    "Let's first create a simulation and display it using the REBOUND WebGL widget."
   ]
  },
  {
   "cell_type": "code",
   "execution_count": null,
   "metadata": {},
   "outputs": [],
   "source": [
    "import rebound\n",
    "sim = rebound.Simulation()\n",
    "sim.add(m=1) # add a star\n",
    "for i in range(10):\n",
    "    sim.add(m=1e-3,a=0.4+0.1*i,inc=0.03*i,omega=5.*i) # Jupiter mass planets on close orbits\n",
    "sim.move_to_com() # Move to the centre of mass frame\n",
    "\n",
    "w = sim.widget()\n",
    "w"
   ]
  },
  {
   "cell_type": "markdown",
   "metadata": {},
   "source": [
    "You can now drag the widget with your mouse or touchpad to look at the simulation from a different angle. Keep the shift key pressed while you drag to zoom in or out.\n",
    "\n",
    "To take a single screenshot, all you have to do is call the `takeScreenshot` function of the widget. "
   ]
  },
  {
   "cell_type": "code",
   "execution_count": null,
   "metadata": {},
   "outputs": [],
   "source": [
    "w.takeScreenshot()"
   ]
  },
  {
   "cell_type": "markdown",
   "metadata": {},
   "source": [
    "You will see that there is now a file `screenshot00000.png` in the current directory. It shows the same view as the WebGL widget in the notebook. To get a larger image, increase the size of the widget (see the documentation for the widget for all possible options). \n",
    "\n",
    "We could now rotate the widget or integrate the simulation. If we then execute the same command `takeScreenshot` command again, we will get another file `screenshot00001.png`. \n",
    "\n",
    "Consider the following code:"
   ]
  },
  {
   "cell_type": "code",
   "execution_count": null,
   "metadata": {},
   "outputs": [],
   "source": [
    "# w.takeScreenshot()\n",
    "# sim.integrate(10)\n",
    "# w.takeScreenshot()"
   ]
  },
  {
   "cell_type": "markdown",
   "metadata": {},
   "source": [
    "This will not produce the desired outcome (in fact it will through an exception). The reason is complex. In short, `ipywidgets` provides no blocking calls to wait for updates of a widget because the widget updates make use of the ipython event loop which does not get run during an execution of a cell.\n",
    "\n",
    "Thus, to capture multiple screenshots at different times, one either needs to take one screenshot per cell, or use the following more convenient way:"
   ]
  },
  {
   "cell_type": "code",
   "execution_count": null,
   "metadata": {},
   "outputs": [],
   "source": [
    "times = [0,10,100]\n",
    "w.takeScreenshot(times)"
   ]
  },
  {
   "cell_type": "markdown",
   "metadata": {
    "collapsed": true
   },
   "source": [
    "The above code will generate three screenshots at the requested times. "
   ]
  }
 ],
 "metadata": {
  "kernelspec": {
   "display_name": "Python 3",
   "language": "python",
   "name": "python3"
  },
  "language_info": {
   "codemirror_mode": {
    "name": "ipython",
    "version": 3
   },
   "file_extension": ".py",
   "mimetype": "text/x-python",
   "name": "python",
   "nbconvert_exporter": "python",
   "pygments_lexer": "ipython3",
   "version": "3.8.9"
  },
  "widgets": {
   "state": {
    "630ed3176c354c16b25878fe7a327561": {
     "views": [
      {
       "cell_index": 1
      }
     ]
    },
    "799f98f7d8b5440694a435eab7312680": {
     "views": [
      {
       "cell_index": 8
      }
     ]
    },
    "c1b50365dc8d455b8f22eb80576a3b55": {
     "views": [
      {
       "cell_index": 10
      }
     ]
    }
   },
   "version": "1.2.0"
  }
 },
 "nbformat": 4,
 "nbformat_minor": 1
}
