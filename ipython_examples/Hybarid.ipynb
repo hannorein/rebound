{
 "cells": [
  {
   "cell_type": "markdown",
   "metadata": {},
   "source": [
    "# Hybarid test"
   ]
  },
  {
   "cell_type": "code",
   "execution_count": 1,
   "metadata": {
    "collapsed": false
   },
   "outputs": [
    {
     "name": "stdout",
     "output_type": "stream",
     "text": [
      "Feb  9 2016 15:56:39\n"
     ]
    }
   ],
   "source": [
    "import matplotlib\n",
    "matplotlib.use(\"pdf\")\n",
    "%matplotlib inline\n",
    "import matplotlib.pyplot as plt\n",
    "import rebound\n",
    "print(rebound.__build__)\n",
    "import numpy as np\n",
    "from timeit import Timer"
   ]
  },
  {
   "cell_type": "code",
   "execution_count": 12,
   "metadata": {
    "collapsed": false
   },
   "outputs": [],
   "source": [
    "def perform(x):\n",
    "    dt = x\n",
    "    sim = rebound.Simulation()\n",
    "    sim.add(m=1, r=0.005)\n",
    "    sim.add(m=5e-5, a=.5, r=1.6e-4)\n",
    "    sim.add(m=5e-5, a=.7, e=0.01, r=1.6e-4)\n",
    "    Nplanetesimal = 100\n",
    "    for i in range(Nplanetesimal):\n",
    "        sim.add(m=1e-8,a=np.random.uniform(0.45,0.75),f=np.random.uniform(0,2.*np.pi),r=4e-5)\n",
    "    sim.N_active = sim.N-Nplanetesimal\n",
    "    sim.testparticle_type = 1\n",
    "    sim.collision = \"direct\"\n",
    "    sim.collision_resolve = \"merge\"\n",
    "    sim.collisions_track_dE = 1\n",
    "    sim.integrator = \"hybarid\"\n",
    "    sim.ri_hybarid.switch_ratio = 2.\n",
    "    sim.ri_hybarid.CE_radius = 15.\n",
    "    sim.dt = dt\n",
    "    E0 = sim.calculate_energy()\n",
    "    timing = Timer(lambda: sim.integrate(50.)).timeit(number=1)\n",
    "    Ef = sim.calculate_energy() + sim.collisions_dE\n",
    "    return (timing, abs((E0-Ef)/E0),sim.particles[2].a, sim.ri_hybarid.timestep_too_large_warning)"
   ]
  },
  {
   "cell_type": "code",
   "execution_count": null,
   "metadata": {
    "collapsed": false
   },
   "outputs": [],
   "source": [
    "Ndts = 240\n",
    "dts = np.logspace(-4,-1,Ndts)\n",
    "res = []\n",
    "#for dt in dts:\n",
    "#    x = dt\n",
    "#    res.append(perform(x))\n",
    "from rebound.interruptible_pool import InterruptiblePool\n",
    "pool = InterruptiblePool()\n",
    "res = pool.map(perform,dts)    "
   ]
  },
  {
   "cell_type": "code",
   "execution_count": null,
   "metadata": {
    "collapsed": false
   },
   "outputs": [],
   "source": [
    "fig = plt.figure(figsize=(10,8))\n",
    "ax = plt.subplot(111)\n",
    "ax.set_yscale('log')\n",
    "ax.set_xscale('log')\n",
    "ax.set_xlabel('dt')\n",
    "#ax.set_ylim([1e-16,1.])\n",
    "ax.set_ylabel('rel energy error')\n",
    "tss = [ts for t,e,a,ts in res]\n",
    "ass = [abs(a) for t,e,a,ts in res]\n",
    "error = [e for t,e,a,ts in res]\n",
    "timing = [t for t,e,c,ts in res]\n",
    "errorWH = [e for t,e in resWH]\n",
    "timingWH = [t for t,e in resWH]\n",
    "ax.scatter(dts,error)\n",
    "#ax.scatter(dts,timing, color=\"green\")\n",
    "#ax.scatter(dts,ass, color=\"green\")\n",
    "ax.scatter(dtsWH,errorWH, color=\"red\")"
   ]
  },
  {
   "cell_type": "code",
   "execution_count": 6,
   "metadata": {
    "collapsed": true
   },
   "outputs": [],
   "source": [
    "def performWH(x):\n",
    "    dt = x\n",
    "    sim = rebound.Simulation()\n",
    "    sim.add(m=1, r=0.005)\n",
    "    sim.add(m=5e-5, a=.5, r=1.6e-4)\n",
    "    sim.add(m=5e-5, a=.7, e=0.01, r=1.6e-4)\n",
    "    Nplanetesimal = 100\n",
    "    for i in range(Nplanetesimal):\n",
    "        sim.add(m=1e-8,a=np.random.uniform(0.45,0.75),f=np.random.uniform(0,2.*np.pi),r=4e-5)\n",
    "    sim.N_active = sim.N-Nplanetesimal\n",
    "    sim.testparticle_type = 1\n",
    "    sim.collision = \"direct\"\n",
    "    sim.collision_resolve = \"merge\"\n",
    "    sim.collisions_track_dE = 1\n",
    "    sim.integrator = \"whfast\"\n",
    "    sim.dt = dt\n",
    "    E0 = sim.calculate_energy()\n",
    "    timing = Timer(lambda: sim.integrate(100.)).timeit(number=1)\n",
    "    Ef = sim.calculate_energy() + sim.collisions_dE\n",
    "    return (timing, abs((E0-Ef)/E0))"
   ]
  },
  {
   "cell_type": "code",
   "execution_count": 7,
   "metadata": {
    "collapsed": true
   },
   "outputs": [],
   "source": [
    "Ndts = 10\n",
    "dtsWH = np.logspace(-2,-1,Ndts)\n",
    "resWH = []\n",
    "for dt in dtsWH:\n",
    "    x = dt\n",
    "    resWH.append(performWH(x))"
   ]
  },
  {
   "cell_type": "code",
   "execution_count": null,
   "metadata": {
    "collapsed": true
   },
   "outputs": [],
   "source": []
  }
 ],
 "metadata": {
  "kernelspec": {
   "display_name": "Python 3",
   "language": "python",
   "name": "python3"
  },
  "language_info": {
   "codemirror_mode": {
    "name": "ipython",
    "version": 3
   },
   "file_extension": ".py",
   "mimetype": "text/x-python",
   "name": "python",
   "nbconvert_exporter": "python",
   "pygments_lexer": "ipython3",
   "version": "3.4.3"
  }
 },
 "nbformat": 4,
 "nbformat_minor": 0
}
