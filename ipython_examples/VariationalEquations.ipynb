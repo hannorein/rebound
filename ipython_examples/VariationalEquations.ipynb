{
 "cells": [
  {
   "cell_type": "markdown",
   "metadata": {},
   "source": [
    "# Variational Equations\n",
    "For a complete introduction to variational equations, please read the paper by Rein and Tamayo (2016).\n",
    "\n",
    "For this tutorial, we work with a two planet system. We vary the initial semi-major axis $a$ of the outer planet. Because the planets interact with each other, the final $x$-position of the inner planet at the end of the simulation will depend on the initial semi-major axis of the outer planet. We run the simulation once for a fixed $a_0$ and then use first and second order variational equations to predict the final position of the outer planet for different $a$s in a neighbourhood of $a_0$. \n",
    "\n",
    "To do that, let us first import REBOUND, numpy and matplotlib."
   ]
  },
  {
   "cell_type": "code",
   "execution_count": 9,
   "metadata": {
    "collapsed": false,
    "scrolled": false
   },
   "outputs": [],
   "source": [
    "import rebound\n",
    "import numpy as np\n",
    "%matplotlib inline\n",
    "import matplotlib;\n",
    "import matplotlib.pyplot as plt"
   ]
  },
  {
   "cell_type": "markdown",
   "metadata": {},
   "source": [
    "Before using variational equations, let us define a function that calculates the final position of the outer planet as a function of $a$ in the brute-force way:"
   ]
  },
  {
   "cell_type": "code",
   "execution_count": 10,
   "metadata": {
    "collapsed": false
   },
   "outputs": [],
   "source": [
    "def run_sim(a):\n",
    "    sim = rebound.Simulation()\n",
    "    sim.add(m=1.)\n",
    "    sim.add(primary=sim.particles[0],m=1e-3, a=1)\n",
    "    sim.add(primary=sim.particles[0],m=1e-3, a=a)\n",
    "    \n",
    "    sim.integrate(2.*np.pi*10.)\n",
    "    return sim.particles[1].x"
   ]
  },
  {
   "cell_type": "markdown",
   "metadata": {},
   "source": [
    "We'll use this function to create a list of *true* final positions to which we later compare our results."
   ]
  },
  {
   "cell_type": "code",
   "execution_count": 11,
   "metadata": {
    "collapsed": false
   },
   "outputs": [],
   "source": [
    "N=400\n",
    "x_exact = np.zeros((N))\n",
    "a_grid = np.linspace(1.4,1.7,N)\n",
    "for i,a in enumerate(a_grid):\n",
    "    x_exact[i] = run_sim(a)"
   ]
  },
  {
   "cell_type": "markdown",
   "metadata": {},
   "source": [
    "Running a simulation with variational equations is very easy. We start by creating a simulation and add the three particles (the star and two planets) just as before. Note that we initialize the orbit in heliocentric coordinates, telling REBOUND excplicitly that the star is the primary. \n",
    "\n",
    "We then add variational particles to the simulation. We vary one paramter ($a$) and thus need only one set of first order variational equaitions. The second order variational equations depend on the first order ones. Thus, when initializing them, one has to pass the set of first order variational equations using the 'first_order' parameter.\n",
    "\n",
    "Then the variational particles are initialized using the `vary()` function. REBOUND comes with this convenience function that makes varying orbital parameters particularly easy. Alternatively, one can also vary the coordinates of the variational particles directly, e.g. using  `var_da.particles[1].x = 1`.\n",
    "\n",
    "The function below does all that and returns the final position of the inner planet, as well as the first and second derivates of the position with respect to $a$. "
   ]
  },
  {
   "cell_type": "code",
   "execution_count": 12,
   "metadata": {
    "collapsed": true
   },
   "outputs": [],
   "source": [
    "def run_sim_var(a):\n",
    "    sim = rebound.Simulation()\n",
    "    sim.add(m=1.)\n",
    "    sim.add(primary=sim.particles[0],m=1e-3, a=1)\n",
    "    sim.add(primary=sim.particles[0],m=1e-3, a=a)\n",
    "    var_da = sim.add_variation()\n",
    "    var_dda = sim.add_variation(order=2, first_order=var_da)\n",
    "    var_da.vary(2, \"a\")\n",
    "    var_dda.vary(2, \"a\")\n",
    "    \n",
    "    sim.integrate(2.*np.pi*10.)\n",
    "    return sim.particles[1].x, var_da.particles[1].x, var_dda.particles[1].x"
   ]
  },
  {
   "cell_type": "markdown",
   "metadata": {},
   "source": [
    "We can now use the variational equations to predict the final position of the inner particle. Note that we only run one simulation, at $a_0=1.56$."
   ]
  },
  {
   "cell_type": "code",
   "execution_count": 13,
   "metadata": {
    "collapsed": false
   },
   "outputs": [],
   "source": [
    "a_0 = 1.56\n",
    "x, dxda, ddxdda = run_sim_var(a_0)\n",
    "x_1st_order = np.zeros(N)\n",
    "x_2nd_order = np.zeros(N)\n",
    "for i,a in enumerate(a_grid):\n",
    "    x_1st_order[i] = x + (a-a_0)*dxda\n",
    "    x_2nd_order[i] = x + (a-a_0)*dxda + 0.5*(a-a_0)*(a-a_0)*ddxdda"
   ]
  },
  {
   "cell_type": "markdown",
   "metadata": {},
   "source": [
    "In the figure below, we plot the final position as a function of the initial semi-major axis. The black line corresponds to the true final position as calculated by the brute-force approach. The dashed and dotted lines correspond to the approximations using first and second order variational equations. As one can see, the second order approximation is very accurate within a neighbourhood of $a_0$. "
   ]
  },
  {
   "cell_type": "code",
   "execution_count": 15,
   "metadata": {
    "collapsed": false
   },
   "outputs": [
    {
     "data": {
      "image/png": "[encoded data removed]",
      "text/plain": [
       "<matplotlib.figure.Figure at 0x1118af850>"
      ]
     },
     "metadata": {},
     "output_type": "display_data"
    }
   ],
   "source": [
    "fig = plt.figure(figsize=(6,4))\n",
    "ax = plt.subplot(111)\n",
    "ax.set_xlim(a_grid[0],a_grid[-1])\n",
    "ax.set_ylim(np.min(x_exact),np.max(x_exact)*1.01)\n",
    "ax.set_xlabel(\"initial semi-major axis of the outer planet\")\n",
    "ax.set_ylabel(\"$x$ position of inner planet after 10 orbits\")\n",
    "ax.plot(a_grid, x_exact, \"-\", color=\"black\", lw=2)\n",
    "ax.plot(a_grid, x_1st_order, \"--\", color=\"green\")\n",
    "ax.plot(a_grid, x_2nd_order, \":\", color=\"blue\")\n",
    "ax.plot(a_0, x, \"ro\",ms=10);"
   ]
  },
  {
   "cell_type": "code",
   "execution_count": null,
   "metadata": {
    "collapsed": true
   },
   "outputs": [],
   "source": []
  }
 ],
 "metadata": {
  "kernelspec": {
   "display_name": "Python 2",
   "language": "python",
   "name": "python2"
  },
  "language_info": {
   "codemirror_mode": {
    "name": "ipython",
    "version": 2
   },
   "file_extension": ".py",
   "mimetype": "text/x-python",
   "name": "python",
   "nbconvert_exporter": "python",
   "pygments_lexer": "ipython2",
   "version": "2.7.10"
  }
 },
 "nbformat": 4,
 "nbformat_minor": 0
}
