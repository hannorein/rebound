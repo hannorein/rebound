{
 "cells": [
  {
   "cell_type": "markdown",
   "metadata": {},
   "source": [
    "# Simulationarchive\n",
    "A Simulationarchive (Rein & Tamayo 2017) is useful when one runs long simulations. With the Simulationarchive, one can easily take snapshots of the simulation, and then later restart and analyze it. Since Spring 2018, the default Simulationarchive version is 2. Version 2 works with all integrators and very few restrictions that apply (you need to be careful when using function pointers)."
   ]
  },
  {
   "cell_type": "markdown",
   "metadata": {},
   "source": [
    "To illustrate the Simulationarchive, let us setup a simulation of a two planet system and turn on the Simulationarchive. This is done with the following code:"
   ]
  },
  {
   "cell_type": "code",
   "execution_count": 1,
   "metadata": {
    "ExecuteTime": {
     "end_time": "2023-09-24T21:28:43.938569Z",
     "start_time": "2023-09-24T21:28:43.859966Z"
    }
   },
   "outputs": [],
   "source": [
    "import rebound\n",
    "import numpy as np\n",
    "sim = rebound.Simulation()\n",
    "sim.add(m=1.)\n",
    "sim.add(m=1e-3, a=1.)\n",
    "sim.add(m=1e-3, a=1.9)\n",
    "sim.move_to_com()\n",
    "sim.dt = sim.particles[1].P*0.05  # timestep is 5% of orbital period\n",
    "sim.integrator = \"whfast\"\n",
    "sim.save_to_file(\"archive.bin\",interval=1e3,delete_file=True)"
   ]
  },
  {
   "cell_type": "markdown",
   "metadata": {},
   "source": [
    "The first argument of `save_to_file` is the path and name of the binary file to write to, the `interval` argument specifies the interval at which snapshots of the simulation are saved (in whichever code units you work). The smaller the interval, the larger the file size, but the faster the access. The `delete_file=True` flag makes REBOUND delete the file if it already exists."
   ]
  },
  {
   "cell_type": "markdown",
   "metadata": {},
   "source": [
    "We now integrate the simulation forward in time. This should take a few seconds."
   ]
  },
  {
   "cell_type": "code",
   "execution_count": 2,
   "metadata": {
    "ExecuteTime": {
     "end_time": "2023-09-24T21:28:45.235981Z",
     "start_time": "2023-09-24T21:28:43.946068Z"
    }
   },
   "outputs": [],
   "source": [
    "sim.integrate(1e6)"
   ]
  },
  {
   "cell_type": "markdown",
   "metadata": {},
   "source": [
    "We can now delete the simulation. Note that we could also have run the simulation using the C version of REBOUND. This might be useful if one wants to run a long simulation on a cluster and doesn't want to bother with installing python. In C, one can initialize the Simulationarchive with (you need to delete the file manually if it already exists):\n",
    "```c\n",
    "struct reb_simulation* sim = reb_simulation_create();\n",
    "...\n",
    "reb_simulation_save_to_file_interval(\"archive.bin\",1e3);\n",
    "```"
   ]
  },
  {
   "cell_type": "code",
   "execution_count": 3,
   "metadata": {
    "ExecuteTime": {
     "end_time": "2023-09-24T21:28:45.238423Z",
     "start_time": "2023-09-24T21:28:45.236970Z"
    }
   },
   "outputs": [],
   "source": [
    "del sim"
   ]
  },
  {
   "cell_type": "markdown",
   "metadata": {},
   "source": [
    "We now look at the Simulationarchive. You could do this at a later time, on a different computer, with a different version of REBOUND and it will still work. "
   ]
  },
  {
   "cell_type": "code",
   "execution_count": 4,
   "metadata": {
    "ExecuteTime": {
     "end_time": "2023-09-24T21:28:45.241941Z",
     "start_time": "2023-09-24T21:28:45.239853Z"
    }
   },
   "outputs": [],
   "source": [
    "sa = rebound.Simulationarchive(\"archive.bin\")"
   ]
  },
  {
   "cell_type": "markdown",
   "metadata": {},
   "source": [
    "Let's first print the number of snapshots and the time of the first and last snapshot in the archive:"
   ]
  },
  {
   "cell_type": "code",
   "execution_count": 5,
   "metadata": {
    "ExecuteTime": {
     "end_time": "2023-09-24T21:28:45.244521Z",
     "start_time": "2023-09-24T21:28:45.242817Z"
    }
   },
   "outputs": [
    {
     "name": "stdout",
     "output_type": "stream",
     "text": [
      "Number of snapshots: 1001\n",
      "Time of first and last snapshot: 0.0, 1000000.0\n"
     ]
    }
   ],
   "source": [
    "print(\"Number of snapshots: %d\" % len(sa))\n",
    "print(\"Time of first and last snapshot: %.1f, %.1f\" % (sa.tmin, sa.tmax))"
   ]
  },
  {
   "cell_type": "markdown",
   "metadata": {},
   "source": [
    "We can access each snapshot by indexing the Simulationarchive. This returns a REBOUND simulation object that corresponds to that time. Everything is accurate down to the last bit. That means one could use this simulation object and restart the simulation, the final coordinates of the planets will be exactly the same as in the original simulation."
   ]
  },
  {
   "cell_type": "code",
   "execution_count": 6,
   "metadata": {
    "ExecuteTime": {
     "end_time": "2023-09-24T21:28:45.247607Z",
     "start_time": "2023-09-24T21:28:45.245577Z"
    }
   },
   "outputs": [
    {
     "name": "stdout",
     "output_type": "stream",
     "text": [
      "500000.311856871 <rebound.particle.Particle object at 0x1122c9ac0, m=0.001 x=0.950473365745721 y=-0.3136999197606355 z=0.0 vx=0.3120008072654211 vy=0.947071689781395 vz=0.0>\n"
     ]
    }
   ],
   "source": [
    "sim = sa[500]\n",
    "print(sim.t, sim.particles[1])"
   ]
  },
  {
   "cell_type": "markdown",
   "metadata": {},
   "source": [
    "One can also step through every simulation in the archive using the generator functionality, for example to store the eccentricity of the inner planet as a function of time:"
   ]
  },
  {
   "cell_type": "code",
   "execution_count": 7,
   "metadata": {
    "ExecuteTime": {
     "end_time": "2023-09-24T21:28:45.279895Z",
     "start_time": "2023-09-24T21:28:45.249146Z"
    }
   },
   "outputs": [],
   "source": [
    "eccentricities = np.zeros(len(sa))\n",
    "for i, sim in enumerate(sa):\n",
    "    eccentricities[i] = sim.particles[1].e"
   ]
  },
  {
   "cell_type": "markdown",
   "metadata": {},
   "source": [
    "If we want to access a simulation at a specific time, such as in-between snapshots, one can use the `getSimulation()` function:"
   ]
  },
  {
   "cell_type": "code",
   "execution_count": 8,
   "metadata": {
    "ExecuteTime": {
     "end_time": "2023-09-24T21:28:45.283178Z",
     "start_time": "2023-09-24T21:28:45.280710Z"
    }
   },
   "outputs": [
    {
     "name": "stdout",
     "output_type": "stream",
     "text": [
      "12000.226030496653\n"
     ]
    }
   ],
   "source": [
    "sim = sa.getSimulation(12345.6)\n",
    "print(sim.t)"
   ]
  },
  {
   "cell_type": "markdown",
   "metadata": {},
   "source": [
    "By default, the function returns a simulation that corresponds to the snapshot that is nearby. To get closer to the requested time, one can use the `mode` attribute:"
   ]
  },
  {
   "cell_type": "code",
   "execution_count": 9,
   "metadata": {
    "ExecuteTime": {
     "end_time": "2023-09-24T21:28:45.287145Z",
     "start_time": "2023-09-24T21:28:45.284245Z"
    }
   },
   "outputs": [
    {
     "name": "stdout",
     "output_type": "stream",
     "text": [
      "12345.628564279925\n"
     ]
    }
   ],
   "source": [
    "sim = sa.getSimulation(12345.6, mode=\"close\")\n",
    "print(sim.t)"
   ]
  },
  {
   "cell_type": "markdown",
   "metadata": {},
   "source": [
    "In the above code, REBOUND looks up a nearby snapshot and then integrates the simulation forward in time to get close to the request time. As one can see, with `mode=\"close\"`, one gets a simulation very close to the request time, but it is still slightly off. This is because `WHFast` uses a fixed timestep. If we want to reach the requested time exactly, we have to change the timestep. Changing a timestep in a symplectic integrator can cause problems, but if one really wants to get a simulation object at the exact time (for example to match observations), then the `mode=\"exact\"` flag does that."
   ]
  },
  {
   "cell_type": "code",
   "execution_count": 10,
   "metadata": {
    "ExecuteTime": {
     "end_time": "2023-09-24T21:28:45.291778Z",
     "start_time": "2023-09-24T21:28:45.289450Z"
    }
   },
   "outputs": [
    {
     "name": "stdout",
     "output_type": "stream",
     "text": [
      "12345.6\n"
     ]
    }
   ],
   "source": [
    "sim = sa.getSimulation(12345.6, mode=\"exact\")\n",
    "print(sim.t)"
   ]
  },
  {
   "cell_type": "markdown",
   "metadata": {},
   "source": [
    "Requesting a simulation at any time between `tmin` and `tmax` only takes a few seconds at most (keep in mind, REBOUND integrates the simulation from the nearest snapshot to the requested time). To analyze a large simulation, you might want to do this in parallel. We will use the multiprocess module. If the following code throws you an ImportError, install the module with `pip install multiprocess`. In the following example, we calculate the distance between the two planets at 432 times in the interval $[t_{min},t_{max}]$."
   ]
  },
  {
   "cell_type": "code",
   "execution_count": 11,
   "metadata": {
    "ExecuteTime": {
     "end_time": "2023-09-24T21:28:45.375397Z",
     "start_time": "2023-09-24T21:28:45.292750Z"
    }
   },
   "outputs": [],
   "source": [
    "from multiprocess import Pool\n",
    "import rebound\n",
    "def thread_init(*rest):\n",
    "    global sat\n",
    "    sat = rebound.Simulationarchive(\"archive.bin\")\n",
    "def analyze(t):\n",
    "    sim = sat.getSimulation(t,mode=\"close\")\n",
    "    d12 = sim.particles[1] - sim.particles[2]\n",
    "    return np.sqrt(d12.x*d12.x+d12.y*d12.y+d12.z*d12.z)\n",
    "with Pool(initializer=thread_init) as pool:\n",
    "    times = np.linspace(sa.tmin, sa.tmax, 432)\n",
    "    distances = pool.map(analyze,times)"
   ]
  },
  {
   "cell_type": "markdown",
   "metadata": {},
   "source": [
    "Note that in the above example, we use an initializer function so that each thread has its own Simulationarchive."
   ]
  },
  {
   "cell_type": "markdown",
   "metadata": {
    "collapsed": true
   },
   "source": [
    "# Note\n",
    "\n",
    "Since Spring 2018, the `Simulationarchive` object always returns a new `Simulation` object when you request a simulation from the archive. In earlier versions, it kept a reference to one `Simulation` object internally, updated it when a new time was requested, and then returned a reference."
   ]
  },
  {
   "cell_type": "markdown",
   "metadata": {
    "collapsed": true
   },
   "source": [
    "# Manual Snapshots\n",
    "\n",
    "With the new version of the simulationarchive you can also add snapshots manually, giving you further control beyond the automated options used above. This can be useful to save snapshots when particular conditions like collisions or ejections occur. Here we give an example that saves logarithmically spaced snapshots"
   ]
  },
  {
   "cell_type": "code",
   "execution_count": 12,
   "metadata": {
    "ExecuteTime": {
     "end_time": "2023-09-24T21:28:45.379855Z",
     "start_time": "2023-09-24T21:28:45.376748Z"
    }
   },
   "outputs": [],
   "source": [
    "sim = rebound.Simulation()\n",
    "sim.add(m=1.)\n",
    "sim.add(m=1e-3, a=1.)\n",
    "sim.add(m=1e-3, a=1.9)\n",
    "sim.move_to_com()\n",
    "sim.dt = sim.particles[1].P*0.05  # timestep is 5% of orbital period\n",
    "sim.integrator = \"whfast\""
   ]
  },
  {
   "cell_type": "markdown",
   "metadata": {},
   "source": [
    "We now iterate over an array of logarithmically spaced times, and save a snapshot after each using the manual `save_to_file` function. If no file with that filename exists, it will create a new one first. Note that if it doesn't already exist, it will always *append* a snapshot to the file, so you need to delete any existing file when starting a new simulation."
   ]
  },
  {
   "cell_type": "code",
   "execution_count": 13,
   "metadata": {
    "ExecuteTime": {
     "end_time": "2023-09-24T21:28:45.646365Z",
     "start_time": "2023-09-24T21:28:45.380871Z"
    }
   },
   "outputs": [],
   "source": [
    "filename = 'testsa.bin'\n",
    "\n",
    "# remove files if it exists\n",
    "try:\n",
    "    import os\n",
    "    os.remove(filename) \n",
    "except:\n",
    "    pass\n",
    "\n",
    "Nout = 1000\n",
    "times = np.logspace(0, 4, Nout)*sim.particles[1].P\n",
    "for i, time in enumerate(times):\n",
    "    sim.integrate(time, exact_finish_time=0) # need outputs on the nearest WHFast timesteps to the times we pass to get symplectic behavior\n",
    "    sim.save_to_file(filename)"
   ]
  },
  {
   "cell_type": "markdown",
   "metadata": {},
   "source": [
    "We now plot the energy error at each of the snapshots"
   ]
  },
  {
   "cell_type": "code",
   "execution_count": 14,
   "metadata": {
    "ExecuteTime": {
     "end_time": "2023-09-24T21:28:46.199232Z",
     "start_time": "2023-09-24T21:28:45.647329Z"
    }
   },
   "outputs": [
    {
     "data": {
      "image/png": "[encoded data removed]",
      "text/plain": [
       "<Figure size 640x480 with 1 Axes>"
      ]
     },
     "metadata": {},
     "output_type": "display_data"
    }
   ],
   "source": [
    "sa = rebound.Simulationarchive(filename)\n",
    "sim0 = sa[0]\n",
    "P = sim0.particles[1].P\n",
    "E0 = sim.energy()\n",
    "\n",
    "Eerr = np.zeros(Nout)\n",
    "for i, sim in enumerate(sa):\n",
    "    E = sim.energy()\n",
    "    Eerr[i] = np.abs((E-E0)/E0)\n",
    "\n",
    "%matplotlib inline\n",
    "import matplotlib.pyplot as plt\n",
    "\n",
    "fig, ax = plt.subplots()\n",
    "ax.plot(times/sim0.particles[1].P, Eerr, '.')\n",
    "ax.set_xscale('log'); ax.set_yscale('log')\n",
    "ax.set_xlabel('time [orbits]'); ax.set_ylabel('relative energy error');"
   ]
  },
  {
   "cell_type": "markdown",
   "metadata": {},
   "source": [
    "One can also add manual snapshots when using automated intervals."
   ]
  },
  {
   "cell_type": "code",
   "execution_count": null,
   "metadata": {},
   "outputs": [],
   "source": []
  }
 ],
 "metadata": {
  "kernelspec": {
   "display_name": "Python 3 (ipykernel)",
   "language": "python",
   "name": "python3"
  },
  "language_info": {
   "codemirror_mode": {
    "name": "ipython",
    "version": 3
   },
   "file_extension": ".py",
   "mimetype": "text/x-python",
   "name": "python",
   "nbconvert_exporter": "python",
   "pygments_lexer": "ipython3",
   "version": "3.9.6"
  }
 },
 "nbformat": 4,
 "nbformat_minor": 1
}
