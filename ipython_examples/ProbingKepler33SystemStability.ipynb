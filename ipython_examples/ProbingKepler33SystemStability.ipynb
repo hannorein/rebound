{
 "cells": [
  {
   "attachments": {},
   "cell_type": "markdown",
   "id": "dff822b0-77a1-491d-ae7c-336a2a5fe9ed",
   "metadata": {},
   "source": [
    "How stable is the five planet Kepler-33 system? Let's test it out by placing a perturbing planet of varying mass outside the system and observing how the eccentricity of the planets change after 2000 years. If the eccentricity exceeds 0.99, we assert that a planet has been unbound from the system."
   ]
  },
  {
   "cell_type": "code",
   "execution_count": 1,
   "id": "df8fe7c6-4da1-46b7-ad38-40d5a6ea727e",
   "metadata": {},
   "outputs": [],
   "source": [
    "import matplotlib.pyplot as plt\n",
    "plt.rcParams['figure.dpi'] = 400 # sharp looking plots\n",
    "plt.rcParams['figure.figsize'] = 10, 6 # bigger plots\n",
    "import rebound\n",
    "import numpy as np\n",
    "from matplotlib.lines import Line2D"
   ]
  },
  {
   "cell_type": "markdown",
   "id": "12e09a68-4efd-4b81-9627-41b691b1ff02",
   "metadata": {},
   "source": [
    "First, we need to define a few variables and arrays."
   ]
  },
  {
   "cell_type": "code",
   "execution_count": 2,
   "id": "43603440-b023-4a01-a375-8315b1dce984",
   "metadata": {},
   "outputs": [],
   "source": [
    "Me_to_Msun = 3.00273e-6 # convert earth mass to solar mass\n",
    "added_mass = np.array([0, Me_to_Msun, 0.001, 0.01]) # cases to check: No object, Earth, Jupiter, 10*Jupiter\n",
    "tot_time = 2e3 # integrate for 2000 yrs\n",
    "e_arr = [] # collect sim eccentricity"
   ]
  },
  {
   "attachments": {},
   "cell_type": "markdown",
   "id": "5611490a-8a70-45fc-9c03-a6b013dde666",
   "metadata": {},
   "source": [
    "We want to run four simulations, one for each of the perturbing masses."
   ]
  },
  {
   "cell_type": "code",
   "execution_count": 3,
   "id": "eaf85c62-6a40-4b98-af66-7f68701c9d81",
   "metadata": {},
   "outputs": [],
   "source": [
    "for mass in added_mass:\n",
    "    sim = rebound.Simulation() # create a REBOUND simulation\n",
    "    sim.integrator = 'whfast' # change integrator to speed up runtime\n",
    "    sim.units = [\"AU\", \"Msun\", \"yr\"] # desired units\n",
    "    \n",
    "    # add particles. \n",
    "    # Star mass from Petigura et al 2017\n",
    "    # Planet mass and orbital info from NASA, Lissauer et al 2012, respectively\n",
    "    sim.add(m=1.26) # Kepler-33 star\n",
    "    sim.add(m=3.68*Me_to_Msun, a=0.06777, inc=np.radians(86.39)) # Kepler-33b\n",
    "    sim.add(m=0.39*Me_to_Msun, a=0.1189, inc=np.radians(88.19)) # Kepler-33c\n",
    "    sim.add(m=3.91*Me_to_Msun, a=0.1662, inc=np.radians(88.71)) # Kepler-33d\n",
    "    sim.add(m=5.57*Me_to_Msun, a=0.2138, inc=np.radians(88.94)) # Kepler-33e\n",
    "    sim.add(m=9.6*Me_to_Msun, a=0.2535, inc=np.radians(89.17)) # Kepler-33f\n",
    "    sim.add(m=mass, a = 0.3) # Mass placed at 0.3 AU\n",
    "\n",
    "    # Set the center of momentum to be at the origin\n",
    "    sim.move_to_com()\n",
    "\n",
    "    time_step = sim.particles[1].P / 100. # time steps should capture 100 steps of smallest orbit\n",
    "    sim.dt = time_step # update sim time step\n",
    "\n",
    "    # a = np.zeros(len(sim.particles)-1) # orbital elements udefined for central object!\n",
    "    e = np.zeros(len(sim.particles)-1)\n",
    "\n",
    "    # integrate until tot_time\n",
    "    sim.integrate(tot_time)\n",
    "    # save each planet's semi-major axis and eccentricity\n",
    "    for j in range(1, len(sim.particles)):\n",
    "        e[j-1] = sim.particles[j].e\n",
    "    # a_arr.append(a)\n",
    "    e_arr.append(e)\n",
    "e_arr = np.array(e_arr, dtype=object)"
   ]
  },
  {
   "cell_type": "markdown",
   "id": "7ddee9e9-163e-4d92-857c-de38c0b1e415",
   "metadata": {},
   "source": [
    "Let's take a look at the results."
   ]
  },
  {
   "cell_type": "code",
   "execution_count": 4,
   "id": "2219d1a7",
   "metadata": {},
   "outputs": [
    {
     "data": {
      "image/png": "[encoded data removed]",
      "text/plain": [
       "<Figure size 432x288 with 1 Axes>"
      ]
     },
     "metadata": {
      "needs_background": "light"
     },
     "output_type": "display_data"
    }
   ],
   "source": [
    "fig, ax = plt.subplots(1)\n",
    "mass_labels = ['No Planet', 'Earth', 'Jupiter', r'10$\\times$Jupiter']\n",
    "mass_colors = ['b', 'r', 'y', 'g']\n",
    "planet_marker = ['o', 's', '^', '*', 'P']\n",
    "ax.axhline(0.99, c='k', ls='--')\n",
    "for i in range(added_mass.shape[0]):\n",
    "    for j in range(len(sim.particles)-2):\n",
    "        ax.scatter(i, e_arr[i,j], c=mass_colors[i], marker=planet_marker[j])\n",
    "ax.set_xlabel('Perturbing Mass')\n",
    "ax.set_xticks(range(added_mass.shape[0]), mass_labels)\n",
    "ax.set_ylabel('Eccentricity')\n",
    "ax.set_yscale('log')\n",
    "handles = [Line2D([0], [0], marker='o', color='w', markerfacecolor='k', markersize=7),\n",
    "           Line2D([0], [0], marker='s', color='w', markerfacecolor='k', markersize=7),\n",
    "           Line2D([0], [0], marker='^', color='w', markerfacecolor='k', markersize=9),\n",
    "           Line2D([0], [0], marker='*', color='w', markerfacecolor='k', markersize=12),\n",
    "           Line2D([0], [0], marker='P', color='w', markerfacecolor='k', markersize=9),\n",
    "           Line2D([0], [0], linestyle='--', color='k')]\n",
    "legend_labels = ['b', 'c', 'd', 'e', 'f', 'ecc = 0.99']\n",
    "ax.legend(handles=handles, labels=legend_labels, ncol=2, loc='upper left')\n",
    "plt.savefig('kepler33_stability.png')"
   ]
  },
  {
   "attachments": {},
   "cell_type": "markdown",
   "id": "eed137a3-16fc-43a8-a0fd-54f8f8b8fa29",
   "metadata": {},
   "source": [
    "The system is stable when there is no planet or if the planet is only one Earth mass. For both the Jupiter and 10 $\\times$ Jupiter masses, only Kepler-33b had its eccentricity remain within stable values; every other planet is disrupted to the point of being ejected from the system."
   ]
  }
 ],
 "metadata": {
  "kernelspec": {
   "display_name": "Python 3 (ipykernel)",
   "language": "python",
   "name": "python3"
  },
  "language_info": {
   "codemirror_mode": {
    "name": "ipython",
    "version": 3
   },
   "file_extension": ".py",
   "mimetype": "text/x-python",
   "name": "python",
   "nbconvert_exporter": "python",
   "pygments_lexer": "ipython3",
   "version": "3.8.10"
  }
 },
 "nbformat": 4,
 "nbformat_minor": 5
}
