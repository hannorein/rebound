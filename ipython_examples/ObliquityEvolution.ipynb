{
 "cells": [
  {
   "cell_type": "code",
   "execution_count": 1,
   "metadata": {},
   "outputs": [],
   "source": [
    "import rebound\n",
    "import reboundx\n",
    "import numpy as np\n",
    "import matplotlib.pyplot as plt\n",
    "import astropy.units as u"
   ]
  },
  {
   "cell_type": "code",
   "execution_count": 2,
   "metadata": {},
   "outputs": [
    {
     "data": {
      "text/plain": [
       "(1.5017446744253966e-05, 0.00010658741281135093)"
      ]
     },
     "execution_count": 2,
     "metadata": {},
     "output_type": "execute_result"
    }
   ],
   "source": [
    "planet_mass = 5 * u.M_earth.to(u.M_sun)\n",
    "planet_ecc = 0.01\n",
    "planet_radius = 2.5 * u.R_earth.to(u.AU)\n",
    "planet_mass, planet_radius"
   ]
  },
  {
   "cell_type": "code",
   "execution_count": 6,
   "metadata": {},
   "outputs": [],
   "source": [
    "# set up rebound\n",
    "sim = rebound.Simulation()\n",
    "sim.G = 1.\n",
    "sim.add(m=1., hash=\"star\")\n",
    "sim.add(m=planet_mass, a=0.17, \n",
    "        e=planet_ecc, r=planet_radius, hash=\"p1\")\n",
    "sim.add(m=planet_mass, a=0.23,\n",
    "        e=planet_ecc, r=planet_radius, hash=\"p2\")\n",
    "sim.move_to_com()\n",
    "\n",
    "# using WHFast with planet period = planet period / 12.134\n",
    "ps = sim.particles\n",
    "sim.integrator = \"whfast\"\n",
    "sim.dt = ps[1].P / 12.1234\n",
    "\n",
    "# add migration forces with characteristic timescales\n",
    "rebx = reboundx.Extras(sim)\n",
    "mof = rebx.load_force(\"modify_orbits_forces\")\n",
    "τ1 = 5. * u.Myr.to(u.yr) * (2 * np.pi)\n",
    "τ2 = τ1 / 1.1\n",
    "ps[1].params[\"tau_a\"] = -τ1\n",
    "ps[2].params[\"tau_a\"] = -τ2\n",
    "rebx.add_force(mof)"
   ]
  },
  {
   "cell_type": "code",
   "execution_count": 7,
   "metadata": {},
   "outputs": [
    {
     "name": "stdout",
     "output_type": "stream",
     "text": [
      "0.0 0.0\n",
      "253866.073017357 0.0101010101010101\n",
      "507732.146034714 0.0202020202020202\n",
      "761598.219052071 0.0303030303030303\n"
     ]
    },
    {
     "ename": "KeyboardInterrupt",
     "evalue": "",
     "output_type": "error",
     "traceback": [
      "\u001b[0;31m---------------------------------------------------------------------------\u001b[0m",
      "\u001b[0;31mKeyboardInterrupt\u001b[0m                         Traceback (most recent call last)",
      "Input \u001b[0;32mIn [7]\u001b[0m, in \u001b[0;36m<cell line: 14>\u001b[0;34m()\u001b[0m\n\u001b[1;32m     14\u001b[0m \u001b[38;5;28;01mfor\u001b[39;00m i, t \u001b[38;5;129;01min\u001b[39;00m \u001b[38;5;28menumerate\u001b[39m(t_arr):\n\u001b[1;32m     15\u001b[0m     \u001b[38;5;28mprint\u001b[39m(t, t\u001b[38;5;241m/\u001b[39mt_arr[\u001b[38;5;241m-\u001b[39m\u001b[38;5;241m1\u001b[39m])\n\u001b[0;32m---> 16\u001b[0m     \u001b[43msim\u001b[49m\u001b[38;5;241;43m.\u001b[39;49m\u001b[43mintegrate\u001b[49m\u001b[43m(\u001b[49m\u001b[43mt\u001b[49m\u001b[43m,\u001b[49m\u001b[43m \u001b[49m\u001b[43mexact_finish_time\u001b[49m\u001b[38;5;241;43m=\u001b[39;49m\u001b[38;5;241;43m1\u001b[39;49m\u001b[43m)\u001b[49m\n\u001b[1;32m     18\u001b[0m     \u001b[38;5;66;03m# turn off migration after 2 million yrs (following Fig. 1, ML19)\u001b[39;00m\n\u001b[1;32m     19\u001b[0m     \u001b[38;5;28;01mif\u001b[39;00m t \u001b[38;5;241m>\u001b[39m\u001b[38;5;241m=\u001b[39m \u001b[38;5;241m2e6\u001b[39m \u001b[38;5;129;01mand\u001b[39;00m np\u001b[38;5;241m.\u001b[39misfinite(ps[\u001b[38;5;241m1\u001b[39m]\u001b[38;5;241m.\u001b[39mparams[\u001b[38;5;124m\"\u001b[39m\u001b[38;5;124mtau_a\u001b[39m\u001b[38;5;124m\"\u001b[39m]):\n",
      "File \u001b[0;32m~/anaconda3/envs/astro/lib/python3.9/site-packages/rebound/simulation.py:2119\u001b[0m, in \u001b[0;36mSimulation.integrate\u001b[0;34m(self, tmax, exact_finish_time)\u001b[0m\n\u001b[1;32m   2117\u001b[0m     \u001b[38;5;28;01mpass\u001b[39;00m \u001b[38;5;66;03m# User caused exit. Do not raise error message\u001b[39;00m\n\u001b[1;32m   2118\u001b[0m \u001b[38;5;28;01mif\u001b[39;00m ret_value \u001b[38;5;241m==\u001b[39m \u001b[38;5;241m6\u001b[39m:\n\u001b[0;32m-> 2119\u001b[0m     \u001b[38;5;28;01mraise\u001b[39;00m \u001b[38;5;167;01mKeyboardInterrupt\u001b[39;00m\n\u001b[1;32m   2120\u001b[0m \u001b[38;5;28;01mif\u001b[39;00m ret_value \u001b[38;5;241m==\u001b[39m \u001b[38;5;241m7\u001b[39m:\n\u001b[1;32m   2121\u001b[0m     \u001b[38;5;28;01mraise\u001b[39;00m Collision(\u001b[38;5;124m\"\u001b[39m\u001b[38;5;124mTwo particles collided (d < r1+r2)\u001b[39m\u001b[38;5;124m\"\u001b[39m)\n",
      "\u001b[0;31mKeyboardInterrupt\u001b[0m: "
     ]
    }
   ],
   "source": [
    "# integrate until 4 millions years\n",
    "tmax = 4e6\n",
    "N_outputs = 100\n",
    "\n",
    "# set up arrays to store orbital elements\n",
    "# 2 pi factors are to convert from yr to yr/2pi units\n",
    "t_arr = np.linspace(0., tmax * (2*np.pi), N_outputs)\n",
    "\n",
    "# storing semimajor axis, eccentricity, and inclination\n",
    "a = np.zeros((N_outputs,2))\n",
    "ecc = np.zeros((N_outputs,2))\n",
    "inc = np.zeros((N_outputs,2))\n",
    "\n",
    "for i, t in enumerate(t_arr):\n",
    "    sim.integrate(t, exact_finish_time=1)\n",
    "    \n",
    "    # turn off migration after 2 million yrs (following Fig. 1, ML19)\n",
    "    if t >= 2e6 and np.isfinite(ps[1].params[\"tau_a\"]):\n",
    "        ps[1].params[\"tau_a\"] = np.inf\n",
    "        ps[2].params[\"tau_a\"] = np.inf\n",
    "    \n",
    "    ps = sim.particles\n",
    "    a[i] = [ps[1].a, ps[2].a]\n",
    "    ecc[i] = [ps[1].e, ps[2].e]\n",
    "    inc[i] = [ps[1].inc, ps[2].inc]"
   ]
  },
  {
   "cell_type": "code",
   "execution_count": null,
   "metadata": {},
   "outputs": [],
   "source": [
    "plt.plot(t_arr / (2*np.pi), a[:,0])\n",
    "plt.plot(t_arr / (2*np.pi), a[:,1])\n",
    "\n",
    "# plt.ylim([0., 0.25])"
   ]
  },
  {
   "cell_type": "code",
   "execution_count": null,
   "metadata": {},
   "outputs": [],
   "source": [
    "plt.plot(t_arr / (2*np.pi), ecc[:,0])\n",
    "plt.plot(t_arr / (2*np.pi), ecc[:,1])"
   ]
  },
  {
   "cell_type": "markdown",
   "metadata": {},
   "source": [
    "Now migration + obliquity evolution + equilibrium tides\n",
    "\n",
    "intro to equilibrium tides"
   ]
  },
  {
   "cell_type": "code",
   "execution_count": null,
   "metadata": {},
   "outputs": [],
   "source": [
    "# set up rebound\n",
    "sim = rebound.Simulation()\n",
    "sim.G = 1.\n",
    "sim.add(m=1., hash=\"star\")\n",
    "sim.add(m=planet_mass, a=0.17, \n",
    "        e=planet_ecc, r=planet_radius, hash=\"p1\")\n",
    "sim.add(m=planet_mass, a=0.23,\n",
    "        e=planet_ecc, r=planet_radius, hash=\"p2\")\n",
    "sim.move_to_com()\n",
    "\n",
    "# using WHFast with planet period = planet period / 12.134\n",
    "ps = sim.particles\n",
    "sim.integrator = \"whfast\"\n",
    "sim.dt = ps[1].P / 12.1234\n",
    "\n",
    "# add migration forces with characteristic timescales\n",
    "rebx = reboundx.Extras(sim)\n",
    "mof = rebx.load_force(\"modify_orbits_forces\")\n",
    "τ1 = 5. * u.Myr.to(u.yr) * (2 * np.pi)\n",
    "τ2 = τ1 / 1.1\n",
    "ps[1].params[\"tau_a\"] = -τ1\n",
    "ps[2].params[\"tau_a\"] = -τ2\n",
    "rebx.add_force(mof)\n",
    "\n",
    "sf = rebx.load_force(\"tides_spin\")\n",
    "rebx.add_force(sf)"
   ]
  },
  {
   "cell_type": "code",
   "execution_count": null,
   "metadata": {},
   "outputs": [],
   "source": [
    "# Star parameters\n",
    "# Stellar rotation period = 20 days\n",
    "C_star = 0.07 # normalized moment of inertia\n",
    "ps[0].params['Omega'] = rebound.spherical_to_xyz(magnitude=2*np.pi/(20/365), theta=0, phi=0)\n",
    "ps[0].params['I'] = C_star * ps[0].m * ps[0].r**2\n",
    "\n",
    "# Planet parameters\n",
    "C_planet = 0.25 # normalized moment of inertia\n",
    "Prot_planet1 = 5 # days\n",
    "initial_obliquity = 1 # degrees\n",
    "ps[1].params['Omega'] = rebound.spherical_to_xyz(magnitude=2*np.pi/(Prot_planet1/365), theta=np.radians(initial_obliquity), phi=0)\n",
    "ps[1].params['I'] = C_planet * ps[1].m * ps[1].r**2\n",
    "\n",
    "Prot_planet2 = 3 #days\n",
    "ps[1].params['Omega'] = rebound.spherical_to_xyz(magnitude=2*np.pi/(Prot_planet2/365), theta=np.radians(initial_obliquity), phi=0)\n",
    "ps[1].params['I'] = C_planet * ps[1].m * ps[1].r**2"
   ]
  },
  {
   "cell_type": "code",
   "execution_count": null,
   "metadata": {},
   "outputs": [],
   "source": [
    "# initialize spin ODEs\n",
    "rebx.initialize_spin_ode(sf)"
   ]
  },
  {
   "cell_type": "code",
   "execution_count": null,
   "metadata": {},
   "outputs": [],
   "source": [
    "# Set k2 Love numbers so planets feel tides and deform from perfect spheres\n",
    "ps[0].params['k2'] = 0.1\n",
    "ps[1].params['k2'] = 0.4\n",
    "ps[1].params['k2'] = 0.4"
   ]
  },
  {
   "cell_type": "code",
   "execution_count": null,
   "metadata": {},
   "outputs": [],
   "source": []
  }
 ],
 "metadata": {
  "kernelspec": {
   "display_name": "Python 3",
   "language": "python",
   "name": "python3"
  },
  "language_info": {
   "codemirror_mode": {
    "name": "ipython",
    "version": 3
   },
   "file_extension": ".py",
   "mimetype": "text/x-python",
   "name": "python",
   "nbconvert_exporter": "python",
   "pygments_lexer": "ipython3",
   "version": "3.9.7"
  }
 },
 "nbformat": 4,
 "nbformat_minor": 4
}
