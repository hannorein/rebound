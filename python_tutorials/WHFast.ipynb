{
 "cells": [
  {
   "cell_type": "markdown",
   "metadata": {},
   "source": [
    "# WHFast tutorial\n",
    "\n",
    "This tutorial is an introduction to the python interface of WHFast, a fast and unbiased symplectic Wisdom-Holman integrator. The method is described in Rein & Tamayo (2015).\n",
    "\n",
    "This tutorial assumes that you have already installed REBOUND."
   ]
  },
  {
   "cell_type": "markdown",
   "metadata": {},
   "source": [
    "## First WHFast integration\n",
    "You can enter all the commands below into a file and execute it all at once, or open an interactive shell).\n",
    "\n",
    "First, we need to import the REBOUND module (make sure have have enabled the virtual environment if you used it to install REBOUND)."
   ]
  },
  {
   "cell_type": "code",
   "execution_count": 1,
   "metadata": {
    "collapsed": false
   },
   "outputs": [],
   "source": [
    "import rebound"
   ]
  },
  {
   "cell_type": "markdown",
   "metadata": {},
   "source": [
    "Next, let's add some particles. By default, REBOUND assumes $G=1$, so we'll work in those units (see [Units](Units.ipynb) for some examples of changing units). The first particle we add is the central object. We place it at rest at the origin and use the convention of setting the mass of the central object $M_*$ to 1:"
   ]
  },
  {
   "cell_type": "code",
   "execution_count": 2,
   "metadata": {
    "collapsed": false,
    "scrolled": false
   },
   "outputs": [],
   "source": [
    "rebound.add(m=1.)"
   ]
  },
  {
   "cell_type": "markdown",
   "metadata": {},
   "source": [
    "Let's look at the particle we just added:"
   ]
  },
  {
   "cell_type": "code",
   "execution_count": 3,
   "metadata": {
    "collapsed": false
   },
   "outputs": [
    {
     "name": "stdout",
     "output_type": "stream",
     "text": [
      "<rebound.Particle object, m=1.0 x=0.0 y=0.0 z=0.0 vx=0.0 vy=0.0 vz=0.0>\n"
     ]
    }
   ],
   "source": [
    "print(rebound.particles[0])"
   ]
  },
  {
   "cell_type": "markdown",
   "metadata": {
    "collapsed": true
   },
   "source": [
    "The output tells us that the mass of the particle is 1 and all coordinates are zero. \n",
    "\n",
    "The next particle we're adding is a planet. We'll use Cartesian coordinates to initialize it. Any coordinate that we do not specify in the `rebound.add()` command is assumed to be 0. We place our planet on a circular orbit at $a=1$ and give it a mass of $10^{-3}$ times that of the central star."
   ]
  },
  {
   "cell_type": "code",
   "execution_count": 4,
   "metadata": {
    "collapsed": true
   },
   "outputs": [],
   "source": [
    "rebound.add(m=1e-3, x=1., vy=1.)"
   ]
  },
  {
   "cell_type": "markdown",
   "metadata": {},
   "source": [
    "Instead of initializing the particle with Cartesian coordinates, we can also use orbital elements. By default, REBOUND will use Jacobi coordinates, i.e. REBOUND assumes the orbital elements describe the particle's orbit around the centre of mass of all particles added previously. Our second planet will have a mass of $10^{-3}$, a semimajoraxis of $a=2$ and an eccentricity of $e=0.1$:"
   ]
  },
  {
   "cell_type": "code",
   "execution_count": 5,
   "metadata": {
    "collapsed": false
   },
   "outputs": [],
   "source": [
    "rebound.add(m=1e-3, a=2., e=0.1)"
   ]
  },
  {
   "cell_type": "markdown",
   "metadata": {},
   "source": [
    "Now that we have added two more particles, let's have a quick look at what's \"in REBOUND\" by using"
   ]
  },
  {
   "cell_type": "code",
   "execution_count": 6,
   "metadata": {
    "collapsed": false
   },
   "outputs": [
    {
     "name": "stdout",
     "output_type": "stream",
     "text": [
      "---------------------------------\n",
      "Rebound version:     \t1.1.0\n",
      "Build on:            \tJun 29 2015 16:51:31\n",
      "Number of particles: \t3\n",
      "Simulation time:     \t0.000000\n",
      "---------------------------------\n",
      "<rebound.Particle object, m=1.0 x=0.0 y=0.0 z=0.0 vx=0.0 vy=0.0 vz=0.0>\n",
      "<rebound.Particle object, m=0.001 x=1.0 y=0.0 z=0.0 vx=0.0 vy=1.0 vz=0.0>\n",
      "<rebound.Particle object, m=0.001 x=1.800999001 y=0.0 z=0.0 vx=0.0 vy=0.783516306452 vz=0.0>\n",
      "---------------------------------\n"
     ]
    }
   ],
   "source": [
    "rebound.status()"
   ]
  },
  {
   "cell_type": "markdown",
   "metadata": {},
   "source": [
    "Next, let's tell REBOUND which integrator (WHFast, of course!) and timestep we want to use. In our system of units, an orbit at $a=1$ has an orbital period of $T_{\\rm orb} =2\\pi \\sqrt{\\frac{GM}{a}}= 2\\pi$. \n",
    "So a reasonable timestep to start with would be $dt=10^{-3}$ (see Rein & Tamayo 2015 for some discussion on timestep choices)."
   ]
  },
  {
   "cell_type": "code",
   "execution_count": 7,
   "metadata": {
    "collapsed": true
   },
   "outputs": [],
   "source": [
    "rebound.integrator = \"whfast\"\n",
    "rebound.dt = 1e-3 "
   ]
  },
  {
   "cell_type": "markdown",
   "metadata": {},
   "source": [
    "`whfast` refers to the 2nd order symplectic integrator WHFast described by Rein & Tamayo (2015). By default, no symplectic correctors are used, but they can be easily turned on (see [Advanced Settings for WHFast](AdvWHFast.ipynb)). \n",
    "\n",
    "We are now ready to start the integration. Let's integrate for one orbit, i.e. until $t=2\\pi$. Because we use a fixed timestep, rebound would have to change it to integrate exactly up to $2\\pi$. Changing the timestep in a symplectic integrator is a bad idea, so we'll tell rebound to not worry about the `exact_finish_time`."
   ]
  },
  {
   "cell_type": "code",
   "execution_count": 8,
   "metadata": {
    "collapsed": false
   },
   "outputs": [],
   "source": [
    "rebound.integrate(6.28318530717959, exact_finish_time=0)   # 6.28318530717959 is 2*pi"
   ]
  },
  {
   "cell_type": "markdown",
   "metadata": {},
   "source": [
    "Once again, let's look at what REBOUND's status is"
   ]
  },
  {
   "cell_type": "code",
   "execution_count": 9,
   "metadata": {
    "collapsed": false
   },
   "outputs": [
    {
     "name": "stdout",
     "output_type": "stream",
     "text": [
      "---------------------------------\n",
      "Rebound version:     \t1.1.0\n",
      "Build on:            \tJun 29 2015 16:51:31\n",
      "Number of particles: \t3\n",
      "Simulation time:     \t6.284000\n",
      "---------------------------------\n",
      "<rebound.Particle object, m=1.0 x=0.00332615486677 y=0.00967463591145 z=0.0 vx=0.000519465421313 vy=0.00122002692784 vz=0.0>\n",
      "<rebound.Particle object, m=0.001 x=1.00326941809 y=0.0366289427054 z=0.0 vx=-0.024395944012 vy=0.999978207164 vz=0.0>\n",
      "<rebound.Particle object, m=0.001 x=-1.52842528386 y=1.49635161558 z=0.0 vx=-0.495069477301 vy=-0.436488828552 vz=0.0>\n",
      "---------------------------------\n"
     ]
    }
   ],
   "source": [
    "rebound.status()"
   ]
  },
  {
   "cell_type": "markdown",
   "metadata": {},
   "source": [
    "As you can see the time has advanced to $t=2\\pi$ and the positions and velocities of *all* particles have changed. If you want to post-process the particle data, you can access it in the following way:"
   ]
  },
  {
   "cell_type": "code",
   "execution_count": 10,
   "metadata": {
    "collapsed": false
   },
   "outputs": [
    {
     "name": "stdout",
     "output_type": "stream",
     "text": [
      "(0.0033261548667655894, 0.009674635911448503, 0.0005194654213132365, 0.0012200269278385128)\n",
      "(1.0032694180883692, 0.03662894270536817, -0.02439594401204039, 0.9999782071644255)\n",
      "(-1.5284252838557033, 1.4963516155820138, -0.49506947730136036, -0.4364888285516795)\n"
     ]
    }
   ],
   "source": [
    "particles = rebound.particles\n",
    "for p in particles:\n",
    "    print(p.x, p.y, p.vx, p.vy)"
   ]
  },
  {
   "cell_type": "markdown",
   "metadata": {},
   "source": [
    "The `particles` object is an array of pointers to the particles. This means you can call `particles = rebound.particles` before the integration and the contents of `particles` will be updated after the integration. If you add or remove particles, you'll need to call `rebound.particles` again."
   ]
  },
  {
   "cell_type": "markdown",
   "metadata": {},
   "source": [
    "## Visualization with matplotlib\n",
    "Instead of just printing boring numbers at the end of the simulation, let's visualize the orbit using matplotlib (you'll need to install numpy and matplotlib to run this example, see [Installation](Installation.ipynb)).\n",
    "\n",
    "We'll use the same particles as above. As the particles are already in memory, we don't need to add them again. Let us plot the position of the inner planet at 100 steps during its orbit. First, we'll import numpy and create an array of times for which we want to have an output (here, from $T_{\\rm orb}$ to $2 T_{\\rm orb}$ (we have already advanced the simulation time to $t=2\\pi$)."
   ]
  },
  {
   "cell_type": "code",
   "execution_count": 11,
   "metadata": {
    "collapsed": true
   },
   "outputs": [],
   "source": [
    "import numpy as np\n",
    "torb = 2.*np.pi\n",
    "Noutputs = 100\n",
    "times = np.linspace(torb, 2.*torb, Noutputs)\n",
    "x = np.zeros(Noutputs)\n",
    "y = np.zeros(Noutputs)"
   ]
  },
  {
   "cell_type": "markdown",
   "metadata": {},
   "source": [
    "Next, we'll step through the simulation. Rebound will integrate up to `time`. Depending on the timestep, it might overshoot slightly. If you want to have the outputs at exactly the time you specify, you can set the `exact_finish_time=1` flag in the `integrate` function (or omit it altogether, 1 is the default). However, note that changing the timestep in a symplectic integrator could have negative impacts on its properties."
   ]
  },
  {
   "cell_type": "code",
   "execution_count": 12,
   "metadata": {
    "collapsed": false
   },
   "outputs": [],
   "source": [
    "for i,time in enumerate(times):\n",
    "    rebound.integrate(time, exact_finish_time=0)\n",
    "    x[i] = particles[1].x\n",
    "    y[i] = particles[1].y"
   ]
  },
  {
   "cell_type": "markdown",
   "metadata": {},
   "source": [
    "Let's plot the orbit using matplotlib."
   ]
  },
  {
   "cell_type": "code",
   "execution_count": 13,
   "metadata": {
    "collapsed": false
   },
   "outputs": [
    {
     "data": {
      "image/png": "[encoded data removed]",
      "text/plain": [
       "<matplotlib.figure.Figure at 0x106e62f50>"
      ]
     },
     "metadata": {},
     "output_type": "display_data"
    }
   ],
   "source": [
    "%matplotlib inline\n",
    "import matplotlib.pyplot as plt\n",
    "fig = plt.figure(figsize=(5,5))\n",
    "ax = plt.subplot(111)\n",
    "ax.set_xlim([-2,2])\n",
    "ax.set_ylim([-2,2])\n",
    "plt.plot(x, y);"
   ]
  },
  {
   "cell_type": "markdown",
   "metadata": {},
   "source": [
    "Hurray! It worked. The orbit looks like it should, it's an almost perfect circle. There are small perturbations though, induced by the outer planet. Let's integrate a bit longer to see them. "
   ]
  },
  {
   "cell_type": "code",
   "execution_count": 14,
   "metadata": {
    "collapsed": false
   },
   "outputs": [
    {
     "data": {
      "image/png": "[encoded data removed]",
      "text/plain": [
       "<matplotlib.figure.Figure at 0x108562b10>"
      ]
     },
     "metadata": {},
     "output_type": "display_data"
    }
   ],
   "source": [
    "Noutputs = 1000\n",
    "times = np.linspace(2.*torb, 20.*torb, Noutputs)\n",
    "x = np.zeros(Noutputs)\n",
    "y = np.zeros(Noutputs)\n",
    "for i,time in enumerate(times):\n",
    "    rebound.integrate(time, exact_finish_time=0)\n",
    "    x[i] = particles[1].x\n",
    "    y[i] = particles[1].y\n",
    "    \n",
    "fig = plt.figure(figsize=(5,5))\n",
    "ax = plt.subplot(111)\n",
    "ax.set_xlim([-2,2])\n",
    "ax.set_ylim([-2,2])\n",
    "plt.plot(x, y);"
   ]
  },
  {
   "cell_type": "markdown",
   "metadata": {},
   "source": [
    "Oops! This doesn't look like what we expected to see (small perturbations to an almost circluar orbit). What you see here is the barycenter slowly drifting. Some integration packages require that the simulation be carried out in a particular frame, but WHFast provides extra flexibility by working in any inertial frame.  If you recall how we added the particles, the Sun was at the origin and at rest, and then we added the planets.  This means that the center of mass, or barycenter, will have a small velocity, which results in the observed drift.  There are multiple ways we can get the plot we want to.\n",
    "1. We can calculate only relative positions.\n",
    "2. We can add the particles in the barycentric frame.\n",
    "3. We can let REBOUND transform the particle coordinates to the barycentric frame for us.\n",
    "\n",
    "Let's use the third option (next time you run a simulation, you probably want to do that at the beginning)."
   ]
  },
  {
   "cell_type": "code",
   "execution_count": 15,
   "metadata": {
    "collapsed": false
   },
   "outputs": [],
   "source": [
    "rebound.move_to_com()"
   ]
  },
  {
   "cell_type": "markdown",
   "metadata": {},
   "source": [
    "So let's try this again. Let's integrate for a bit longer this time."
   ]
  },
  {
   "cell_type": "code",
   "execution_count": 16,
   "metadata": {
    "collapsed": false
   },
   "outputs": [
    {
     "data": {
      "image/png": "[encoded data removed]",
      "text/plain": [
       "<matplotlib.figure.Figure at 0x108812750>"
      ]
     },
     "metadata": {},
     "output_type": "display_data"
    }
   ],
   "source": [
    "times = np.linspace(20.*torb, 1000.*torb, Noutputs)\n",
    "for i,time in enumerate(times):\n",
    "    rebound.integrate(time, exact_finish_time=0)\n",
    "    x[i] = particles[1].x\n",
    "    y[i] = particles[1].y\n",
    "    \n",
    "fig = plt.figure(figsize=(5,5))\n",
    "ax = plt.subplot(111)\n",
    "ax.set_xlim([-1.5,1.5])\n",
    "ax.set_ylim([-1.5,1.5])\n",
    "plt.scatter(x, y, marker='.', color='k', s=1.2);"
   ]
  },
  {
   "cell_type": "markdown",
   "metadata": {},
   "source": [
    "That looks much more  like it. Let us finally plot the orbital elements as a function of time."
   ]
  },
  {
   "cell_type": "code",
   "execution_count": 17,
   "metadata": {
    "collapsed": false
   },
   "outputs": [
    {
     "data": {
      "image/png": "[encoded data removed]",
      "text/plain": [
       "<matplotlib.figure.Figure at 0x108617ad0>"
      ]
     },
     "metadata": {},
     "output_type": "display_data"
    }
   ],
   "source": [
    "times = np.linspace(1000.*torb, 9000.*torb, Noutputs)\n",
    "a = np.zeros(Noutputs)\n",
    "e = np.zeros(Noutputs)\n",
    "for i,time in enumerate(times):\n",
    "    rebound.integrate(time, exact_finish_time=0)\n",
    "    orbits = rebound.calculate_orbits()\n",
    "    a[i] = orbits[1].a\n",
    "    e[i] = orbits[1].e\n",
    "    \n",
    "fig = plt.figure(figsize=(15,5))\n",
    "\n",
    "ax = plt.subplot(121)\n",
    "ax.set_xlabel(\"time\")\n",
    "ax.set_ylabel(\"semi-major axis\")\n",
    "plt.plot(times, a);\n",
    "\n",
    "ax = plt.subplot(122)\n",
    "ax.set_xlabel(\"time\")\n",
    "ax.set_ylabel(\"eccentricity\")\n",
    "plt.plot(times, e);"
   ]
  },
  {
   "cell_type": "markdown",
   "metadata": {},
   "source": [
    "The semimajor axis seems to almost stay constant, whereas the eccentricity undergoes an oscillation. Thus, one might conclude the planets interact only secularly, i.e. there are no large resonant terms."
   ]
  },
  {
   "cell_type": "markdown",
   "metadata": {},
   "source": [
    "## Speeding things up and extra accuracy\n",
    "\n",
    "There are several performance enhancements one can make to WHFast. However, each one has pitfalls that an inexperienced user can unwittingly fall into. We therefore chose safe default settings that make the integrator difficult to misuse. **This makes the default WHFast substantially slower and less accurate than it can be**, so anyone looking to use it more seriously should check out its advanced settings in [Advanced Settings for WHFast](AdvWHFast.ipynb).\n",
    "\n",
    "## Common mistakes with WHFast\n",
    "\n",
    "If you're getting odd output, check the following:\n",
    "\n",
    "1. The Wisdom-Holman algorithm assumes that the gravitational force on a planet from the central body dominates that from all other particles.  Therefore, if you have close approaches (that violate this approximation), you will get spurious results.  REBOUND provides an experimental hybrid integrator that switches to the IAS15 integrator for close approaches.  You can try it with `rebound.integrator = \"hybrid\"`.  You can also check for close approaches following [Exceptions.ipynb](Exceptions.ipynb).\n",
    "\n",
    "2.  A symplectic scheme requires a constant timestep to guarantee some of its symmetry properties.  So if you call `rebound.integrate(time)`, and `time` is not a multiple of `rebound.dt`, your last timestep will be different (in order to reach `time` exactly).  Therefore, if you need equally spaced outputs, you can make your output times be multiples of `rebound.dt`, or if it doesn't matter, you can pass an optional flag like this: `rebound.integrate(time, exact_finish_time=0)`, which will integrate to the nearest timestep. \n",
    "\n",
    "3.  If you're somehow modifying particles or adding forces, you should make sure to read [Advanced Settings for WHFast](AdvWHFast.ipynb)."
   ]
  }
 ],
 "metadata": {
  "kernelspec": {
   "display_name": "Python 2",
   "language": "python",
   "name": "python2"
  },
  "language_info": {
   "codemirror_mode": {
    "name": "ipython",
    "version": 2
   },
   "file_extension": ".py",
   "mimetype": "text/x-python",
   "name": "python",
   "nbconvert_exporter": "python",
   "pygments_lexer": "ipython2",
   "version": "2.7.10"
  }
 },
 "nbformat": 4,
 "nbformat_minor": 0
}
